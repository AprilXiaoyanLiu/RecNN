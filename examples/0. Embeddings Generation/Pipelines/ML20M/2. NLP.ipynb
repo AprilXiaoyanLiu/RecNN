{
 "cells": [
  {
   "cell_type": "markdown",
   "metadata": {},
   "source": [
    "# NLP with RoBERTa."
   ]
  },
  {
   "cell_type": "code",
   "execution_count": 1,
   "metadata": {},
   "outputs": [],
   "source": [
    "import torch\n",
    "import json\n",
    "import torch.nn.functional as F\n",
    "import pandas as pd\n",
    "from fairseq.data.data_utils import collate_tokens\n",
    "from tqdm.auto import tqdm\n",
    "import numpy as np"
   ]
  },
  {
   "cell_type": "code",
   "execution_count": 2,
   "metadata": {},
   "outputs": [],
   "source": [
    "omdb = json.load(open(\"../../../../data/parsed/omdb.json\", \"r\") )\n",
    "tmdb = json.load(open(\"../../../../data/parsed/tmdb.json\", \"r\") )"
   ]
  },
  {
   "cell_type": "code",
   "execution_count": 3,
   "metadata": {},
   "outputs": [],
   "source": [
    "batch_size = 4\n",
    "cuda = torch.device('cuda')"
   ]
  },
  {
   "cell_type": "code",
   "execution_count": 4,
   "metadata": {},
   "outputs": [],
   "source": [
    "plots = []\n",
    "for i in tmdb.keys():\n",
    "    omdb_plot = omdb[i]['omdb'].get('Plot', '')\n",
    "    tmdb_plot = tmdb[i]['tmdb'].get('overview', '')\n",
    "    plot = tmdb_plot + ' ' + omdb_plot\n",
    "    plots.append((i, plot, len(plot)))\n",
    "    \n",
    "plots = list(sorted(plots, key=lambda x: x[2]))\n",
    "plots = list(filter(lambda x: x[2] > 4, plots))\n",
    "\n",
    "def chunks(l, n):\n",
    "    for i in range(0, len(l), n):\n",
    "        yield l[i:i + n]\n",
    "\n",
    "ids = [i[0] for i in plots]\n",
    "plots = [i[1] for i in plots]\n",
    "plots = list(chunks(plots, batch_size))\n",
    "ids = list(chunks(ids, batch_size))"
   ]
  },
  {
   "cell_type": "code",
   "execution_count": 5,
   "metadata": {},
   "outputs": [
    {
     "name": "stderr",
     "output_type": "stream",
     "text": [
      "Using cache found in /home/dev/.cache/torch/hub/pytorch_fairseq_master\n"
     ]
    },
    {
     "name": "stdout",
     "output_type": "stream",
     "text": [
      "loading archive file http://dl.fbaipublicfiles.com/fairseq/models/roberta.base.tar.gz from cache at /home/dev/.cache/torch/pytorch_fairseq/37d2bc14cf6332d61ed5abeb579948e6054e46cc724c7d23426382d11a31b2d6.ae5852b4abc6bf762e0b6b30f19e741aa05562471e9eb8f4a6ae261f04f9b350\n",
      "| dictionary: 50264 types\n",
      "\n"
     ]
    }
   ],
   "source": [
    "roberta = torch.hub.load('pytorch/fairseq', 'roberta.base').to(cuda)\n",
    "roberta.eval()\n",
    "print()"
   ]
  },
  {
   "cell_type": "code",
   "execution_count": 6,
   "metadata": {},
   "outputs": [],
   "source": [
    "fs = {}\n",
    "\n",
    "def extract_features(batch, ids):\n",
    "    batch = collate_tokens([roberta.encode(sent) for sent in batch], pad_idx=1).to(cuda)\n",
    "    batch = batch[:, :512]\n",
    "    features = roberta.extract_features(batch)\n",
    "    pooled_features = F.avg_pool2d(features, (features.size(1), 1)).squeeze()\n",
    "    for i in range(pooled_features.size(0)):\n",
    "        fs[ids[i]] = pooled_features[i].detach().cpu().numpy()"
   ]
  },
  {
   "cell_type": "code",
   "execution_count": 7,
   "metadata": {},
   "outputs": [
    {
     "data": {
      "application/vnd.jupyter.widget-view+json": {
       "model_id": "d1cf6b1bd7d1493d9087c63ef938130d",
       "version_major": 2,
       "version_minor": 0
      },
      "text/plain": [
       "HBox(children=(IntProgress(value=0, max=6779), HTML(value='')))"
      ]
     },
     "metadata": {},
     "output_type": "display_data"
    },
    {
     "name": "stdout",
     "output_type": "stream",
     "text": [
      "\n"
     ]
    }
   ],
   "source": [
    "for batch, ids in tqdm(zip(plots[::-1], ids[::-1]), total=len(plots)):\n",
    "    extract_features(batch, ids)"
   ]
  },
  {
   "cell_type": "code",
   "execution_count": 10,
   "metadata": {},
   "outputs": [],
   "source": [
    "transformed = pd.DataFrame(fs).T"
   ]
  },
  {
   "cell_type": "code",
   "execution_count": 11,
   "metadata": {},
   "outputs": [
    {
     "data": {
      "text/html": [
       "<div>\n",
       "<style scoped>\n",
       "    .dataframe tbody tr th:only-of-type {\n",
       "        vertical-align: middle;\n",
       "    }\n",
       "\n",
       "    .dataframe tbody tr th {\n",
       "        vertical-align: top;\n",
       "    }\n",
       "\n",
       "    .dataframe thead th {\n",
       "        text-align: right;\n",
       "    }\n",
       "</style>\n",
       "<table border=\"1\" class=\"dataframe\">\n",
       "  <thead>\n",
       "    <tr style=\"text-align: right;\">\n",
       "      <th></th>\n",
       "      <th>0</th>\n",
       "      <th>1</th>\n",
       "      <th>2</th>\n",
       "      <th>3</th>\n",
       "      <th>4</th>\n",
       "      <th>5</th>\n",
       "      <th>6</th>\n",
       "      <th>7</th>\n",
       "      <th>8</th>\n",
       "      <th>9</th>\n",
       "      <th>...</th>\n",
       "      <th>758</th>\n",
       "      <th>759</th>\n",
       "      <th>760</th>\n",
       "      <th>761</th>\n",
       "      <th>762</th>\n",
       "      <th>763</th>\n",
       "      <th>764</th>\n",
       "      <th>765</th>\n",
       "      <th>766</th>\n",
       "      <th>767</th>\n",
       "    </tr>\n",
       "  </thead>\n",
       "  <tbody>\n",
       "    <tr>\n",
       "      <th>94314</th>\n",
       "      <td>-0.003021</td>\n",
       "      <td>0.042953</td>\n",
       "      <td>0.041073</td>\n",
       "      <td>-0.070172</td>\n",
       "      <td>0.041283</td>\n",
       "      <td>-0.022052</td>\n",
       "      <td>0.042337</td>\n",
       "      <td>0.061337</td>\n",
       "      <td>0.056940</td>\n",
       "      <td>-0.042828</td>\n",
       "      <td>...</td>\n",
       "      <td>-0.019826</td>\n",
       "      <td>-0.057223</td>\n",
       "      <td>-0.013783</td>\n",
       "      <td>-0.021975</td>\n",
       "      <td>0.013032</td>\n",
       "      <td>0.071649</td>\n",
       "      <td>-0.133055</td>\n",
       "      <td>-0.137458</td>\n",
       "      <td>0.038325</td>\n",
       "      <td>-0.021989</td>\n",
       "    </tr>\n",
       "    <tr>\n",
       "      <th>108947</th>\n",
       "      <td>0.005153</td>\n",
       "      <td>0.085032</td>\n",
       "      <td>0.004828</td>\n",
       "      <td>-0.130353</td>\n",
       "      <td>0.182427</td>\n",
       "      <td>0.118248</td>\n",
       "      <td>-0.002422</td>\n",
       "      <td>0.079100</td>\n",
       "      <td>-0.001717</td>\n",
       "      <td>-0.008349</td>\n",
       "      <td>...</td>\n",
       "      <td>-0.071296</td>\n",
       "      <td>-0.025807</td>\n",
       "      <td>0.000577</td>\n",
       "      <td>0.027177</td>\n",
       "      <td>0.099686</td>\n",
       "      <td>0.111841</td>\n",
       "      <td>-0.128115</td>\n",
       "      <td>-0.121794</td>\n",
       "      <td>0.039550</td>\n",
       "      <td>-0.009374</td>\n",
       "    </tr>\n",
       "    <tr>\n",
       "      <th>116851</th>\n",
       "      <td>-0.026172</td>\n",
       "      <td>-0.006734</td>\n",
       "      <td>0.027957</td>\n",
       "      <td>-0.177829</td>\n",
       "      <td>0.177694</td>\n",
       "      <td>-0.001653</td>\n",
       "      <td>-0.037998</td>\n",
       "      <td>0.140078</td>\n",
       "      <td>0.003422</td>\n",
       "      <td>0.011289</td>\n",
       "      <td>...</td>\n",
       "      <td>-0.067595</td>\n",
       "      <td>-0.061443</td>\n",
       "      <td>-0.047832</td>\n",
       "      <td>-0.001230</td>\n",
       "      <td>0.085797</td>\n",
       "      <td>0.107863</td>\n",
       "      <td>-0.048223</td>\n",
       "      <td>-0.033383</td>\n",
       "      <td>0.032022</td>\n",
       "      <td>-0.006100</td>\n",
       "    </tr>\n",
       "    <tr>\n",
       "      <th>3373</th>\n",
       "      <td>-0.042934</td>\n",
       "      <td>0.045320</td>\n",
       "      <td>0.030206</td>\n",
       "      <td>-0.081032</td>\n",
       "      <td>0.100015</td>\n",
       "      <td>0.094492</td>\n",
       "      <td>-0.050629</td>\n",
       "      <td>0.014997</td>\n",
       "      <td>0.050944</td>\n",
       "      <td>-0.083253</td>\n",
       "      <td>...</td>\n",
       "      <td>-0.039333</td>\n",
       "      <td>-0.119122</td>\n",
       "      <td>-0.069987</td>\n",
       "      <td>0.024300</td>\n",
       "      <td>-0.018089</td>\n",
       "      <td>0.065861</td>\n",
       "      <td>-0.136187</td>\n",
       "      <td>-0.235490</td>\n",
       "      <td>0.026261</td>\n",
       "      <td>-0.034703</td>\n",
       "    </tr>\n",
       "    <tr>\n",
       "      <th>102154</th>\n",
       "      <td>-0.065819</td>\n",
       "      <td>0.067415</td>\n",
       "      <td>0.064005</td>\n",
       "      <td>-0.045871</td>\n",
       "      <td>0.119665</td>\n",
       "      <td>0.039735</td>\n",
       "      <td>-0.024740</td>\n",
       "      <td>0.009260</td>\n",
       "      <td>0.051017</td>\n",
       "      <td>-0.023419</td>\n",
       "      <td>...</td>\n",
       "      <td>-0.030069</td>\n",
       "      <td>-0.032542</td>\n",
       "      <td>-0.062198</td>\n",
       "      <td>-0.025295</td>\n",
       "      <td>0.028602</td>\n",
       "      <td>0.085711</td>\n",
       "      <td>-0.192206</td>\n",
       "      <td>-0.226985</td>\n",
       "      <td>0.032895</td>\n",
       "      <td>-0.035906</td>\n",
       "    </tr>\n",
       "  </tbody>\n",
       "</table>\n",
       "<p>5 rows × 768 columns</p>\n",
       "</div>"
      ],
      "text/plain": [
       "             0         1         2         3         4         5         6    \\\n",
       "94314  -0.003021  0.042953  0.041073 -0.070172  0.041283 -0.022052  0.042337   \n",
       "108947  0.005153  0.085032  0.004828 -0.130353  0.182427  0.118248 -0.002422   \n",
       "116851 -0.026172 -0.006734  0.027957 -0.177829  0.177694 -0.001653 -0.037998   \n",
       "3373   -0.042934  0.045320  0.030206 -0.081032  0.100015  0.094492 -0.050629   \n",
       "102154 -0.065819  0.067415  0.064005 -0.045871  0.119665  0.039735 -0.024740   \n",
       "\n",
       "             7         8         9    ...       758       759       760  \\\n",
       "94314   0.061337  0.056940 -0.042828  ... -0.019826 -0.057223 -0.013783   \n",
       "108947  0.079100 -0.001717 -0.008349  ... -0.071296 -0.025807  0.000577   \n",
       "116851  0.140078  0.003422  0.011289  ... -0.067595 -0.061443 -0.047832   \n",
       "3373    0.014997  0.050944 -0.083253  ... -0.039333 -0.119122 -0.069987   \n",
       "102154  0.009260  0.051017 -0.023419  ... -0.030069 -0.032542 -0.062198   \n",
       "\n",
       "             761       762       763       764       765       766       767  \n",
       "94314  -0.021975  0.013032  0.071649 -0.133055 -0.137458  0.038325 -0.021989  \n",
       "108947  0.027177  0.099686  0.111841 -0.128115 -0.121794  0.039550 -0.009374  \n",
       "116851 -0.001230  0.085797  0.107863 -0.048223 -0.033383  0.032022 -0.006100  \n",
       "3373    0.024300 -0.018089  0.065861 -0.136187 -0.235490  0.026261 -0.034703  \n",
       "102154 -0.025295  0.028602  0.085711 -0.192206 -0.226985  0.032895 -0.035906  \n",
       "\n",
       "[5 rows x 768 columns]"
      ]
     },
     "execution_count": 11,
     "metadata": {},
     "output_type": "execute_result"
    }
   ],
   "source": [
    "transformed.head()"
   ]
  },
  {
   "cell_type": "code",
   "execution_count": 12,
   "metadata": {},
   "outputs": [],
   "source": [
    "transformed.to_csv('../../../../data/engineering/roberta.csv', index=False)"
   ]
  },
  {
   "cell_type": "code",
   "execution_count": null,
   "metadata": {},
   "outputs": [],
   "source": []
  },
  {
   "cell_type": "code",
   "execution_count": null,
   "metadata": {},
   "outputs": [],
   "source": []
  },
  {
   "cell_type": "code",
   "execution_count": null,
   "metadata": {},
   "outputs": [],
   "source": []
  },
  {
   "cell_type": "code",
   "execution_count": null,
   "metadata": {},
   "outputs": [],
   "source": []
  }
 ],
 "metadata": {
  "kernelspec": {
   "display_name": "Python 3",
   "language": "python",
   "name": "python3"
  },
  "language_info": {
   "codemirror_mode": {
    "name": "ipython",
    "version": 3
   },
   "file_extension": ".py",
   "mimetype": "text/x-python",
   "name": "python",
   "nbconvert_exporter": "python",
   "pygments_lexer": "ipython3",
   "version": "3.7.3"
  }
 },
 "nbformat": 4,
 "nbformat_minor": 2
}
