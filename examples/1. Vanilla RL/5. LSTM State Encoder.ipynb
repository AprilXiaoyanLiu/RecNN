{
 "cells": [
  {
   "cell_type": "markdown",
   "metadata": {},
   "source": [
    "## LSTM state encoder"
   ]
  },
  {
   "cell_type": "code",
   "execution_count": 1,
   "metadata": {},
   "outputs": [],
   "source": [
    "import torch\n",
    "import torch.nn as nn\n",
    "import torch.nn.functional as F\n",
    "import torch.optim as optim\n",
    "from torch.utils.data import DataLoader\n",
    "from torch.utils.tensorboard import SummaryWriter"
   ]
  },
  {
   "cell_type": "code",
   "execution_count": 2,
   "metadata": {},
   "outputs": [],
   "source": [
    "import numpy as np\n",
    "import pandas as pd\n",
    "from tqdm.auto import tqdm\n",
    "import pickle\n",
    "import gc\n",
    "import json\n",
    "import h5py\n",
    "\n",
    "from IPython.display import clear_output\n",
    "import matplotlib.pyplot as plt\n",
    "%matplotlib inline\n",
    "\n",
    "\n",
    "# == recnn ==\n",
    "import sys\n",
    "sys.path.append(\"../../\")\n",
    "import recnn\n",
    "\n",
    "cuda = torch.device('cuda')\n",
    "# ---\n",
    "frame_size = 10\n",
    "batch_size = 25\n",
    "# --- \n",
    "\n",
    "tqdm.pandas()"
   ]
  },
  {
   "cell_type": "code",
   "execution_count": 3,
   "metadata": {},
   "outputs": [
    {
     "name": "stdout",
     "output_type": "stream",
     "text": [
      "Done!\n"
     ]
    }
   ],
   "source": [
    "# https://drive.google.com/open?id=1kTyu05ZmtP2MA33J5hWdX8OyUYEDW4iI\n",
    "movie_embeddings_key_dict = pickle.load(open('../../data/infos_pca128.pytorch', 'rb'))\n",
    "movies_embeddings_tensor, key_to_id, id_to_key = recnn.data.make_items_tensor(movie_embeddings_key_dict)\n",
    "# download ml20m dataset yourself\n",
    "ratings = pd.read_csv('../../data/ml-20m/ratings.csv')\n",
    "user_dict, users = recnn.data.prepare_dataset(ratings, key_to_id, frame_size)\n",
    "\n",
    "del ratings\n",
    "gc.collect()\n",
    "clear_output(True)\n",
    "clear_output(True)\n",
    "print('Done!')"
   ]
  },
  {
   "cell_type": "code",
   "execution_count": 4,
   "metadata": {},
   "outputs": [],
   "source": [
    "def run_tests():\n",
    "    test_batch = next(iter(test_dataloader))\n",
    "    batch = [state, action, reward, next_state, torch.tensor(0)]\n",
    "    loss = recnn.learning.ddpg_update(batch, params, nets, optimizer,\n",
    "                                       cuda, debugger, step=step)\n",
    "    losses = ddpg_update(test_batch, params, learn=False, step=step)\n",
    "    return losses"
   ]
  },
  {
   "cell_type": "code",
   "execution_count": 5,
   "metadata": {},
   "outputs": [],
   "source": [
    "# === ddpg settings ===\n",
    "\n",
    "params = {\n",
    "    'gamma'      : 0.99,\n",
    "    'min_value'  : -10,\n",
    "    'max_value'  : 10,\n",
    "    'policy_step': 3,\n",
    "    'soft_tau'   : 0.001,\n",
    "    \n",
    "    'policy_lr'  : 1e-5,\n",
    "    'value_lr'   : 1e-5,\n",
    "    'actor_weight_init': 3e-1,\n",
    "    'critic_weight_init': 6e-1,\n",
    "}\n",
    "\n",
    "# === end ==="
   ]
  },
  {
   "cell_type": "code",
   "execution_count": 6,
   "metadata": {},
   "outputs": [],
   "source": [
    "value_net  = recnn.models.Critic(256, 128, 256, params['critic_weight_init']).to(cuda)\n",
    "policy_net = recnn.models.Actor(256, 128, 256, params['actor_weight_init']).to(cuda)\n",
    "\n",
    "target_value_net = recnn.models.Critic(256, 128, 256).to(cuda)\n",
    "target_policy_net = recnn.models.Actor(256, 128, 256).to(cuda)\n",
    "\n",
    "state_encoder = nn.LSTM(129, 256, batch_first=True).to(cuda)\n",
    "\n",
    "target_policy_net.eval()\n",
    "target_value_net.eval()\n",
    "\n",
    "\n",
    "recnn.learning.soft_update(value_net, target_value_net, soft_tau=1.0)\n",
    "recnn.learning.soft_update(policy_net, target_policy_net, soft_tau=1.0)\n",
    "\n",
    "# optim.Adam can be replaced with RAdam\n",
    "pm = list(policy_net.parameters()) + list(state_encoder.parameters())\n",
    "value_optimizer = recnn.optim.RAdam(value_net.parameters(),\n",
    "                              lr=params['value_lr'], weight_decay=1e-2)\n",
    "policy_optimizer = recnn.optim.RAdam(pm, lr=params['policy_lr'] , weight_decay=1e-2)\n",
    "\n",
    "nets = {\n",
    "    'value_net': value_net,\n",
    "    'target_value_net': target_value_net,\n",
    "    'policy_net': policy_net,\n",
    "    'target_policy_net': target_policy_net,\n",
    "}\n",
    "\n",
    "optimizer = {\n",
    "    'policy_optimizer': policy_optimizer,\n",
    "    'value_optimizer':  value_optimizer\n",
    "}\n",
    "\n",
    "\n",
    "layout = {\n",
    "    'test': {'value': [], 'policy': [], 'step': []},\n",
    "    'train': {'value': [], 'policy': [], 'step': []}\n",
    "    }\n",
    "\n",
    "writer = SummaryWriter(log_dir='../../runs')\n",
    "debugger = recnn.Debugger(layout, run_tests, writer)\n",
    "plotter = recnn.plot.Plotter(debugger, [['value', 'policy']],)"
   ]
  },
  {
   "cell_type": "code",
   "execution_count": 7,
   "metadata": {},
   "outputs": [
    {
     "data": {
      "application/vnd.jupyter.widget-view+json": {
       "model_id": "c2bde4576a804b8aa3efc5609b2235fb",
       "version_major": 2,
       "version_minor": 0
      },
      "text/plain": [
       "HBox(children=(IntProgress(value=0), HTML(value='')))"
      ]
     },
     "metadata": {},
     "output_type": "display_data"
    }
   ],
   "source": [
    "step = 1\n",
    "\n",
    "n_epochs = 100\n",
    "batch_size = 25\n",
    "\n",
    "epoch_bar = tqdm(total=n_epochs)\n",
    "train_users = recnn.data.sort_users_itemwise(user_dict, users[:-5000])[2:]\n",
    "test_users = recnn.data.sort_users_itemwise(user_dict, users[-5000:])\n",
    "\n",
    "def prepare_batch_wrapper(batch):\n",
    "    batch = recnn.data.padder(batch)\n",
    "    batch = recnn.data.prepare_batch_dynamic_size(batch, movies_embeddings_tensor)\n",
    "    return batch\n",
    "    \n",
    "train_user_dataset = recnn.data.UserDataset(train_users, user_dict)\n",
    "test_user_dataset = recnn.data.UserDataset(test_users, user_dict)\n",
    "train_dataloader = DataLoader(train_user_dataset, batch_size=batch_size,\n",
    "                              num_workers=4,collate_fn=prepare_batch_wrapper)\n",
    "test_dataloader = DataLoader(test_user_dataset, batch_size=batch_size,\n",
    "                             num_workers=4,collate_fn=prepare_batch_wrapper)\n"
   ]
  },
  {
   "cell_type": "code",
   "execution_count": 8,
   "metadata": {},
   "outputs": [],
   "source": [
    "def ddpg_update(batch, params, nets, optimizer, device, debugger=False, learn=True, step=-1):\n",
    "    batch = [i.to(device) for i in batch]\n",
    "    state, action, reward, next_state = batch\n",
    "    # reward = reward.unsqueeze(1)\n",
    "\n",
    "    # --------------------------------------------------------#\n",
    "    # Value Learning\n",
    "\n",
    "    with torch.no_grad():\n",
    "        next_action = nets['target_policy_net'](next_state)\n",
    "        target_value = nets['target_value_net'](next_state, next_action.detach())\n",
    "        expected_value = reward + params['gamma'] * target_value\n",
    "        expected_value = torch.clamp(expected_value,\n",
    "                                     params['min_value'], params['max_value'])\n",
    "\n",
    "    value = nets['value_net'](state, action)\n",
    "\n",
    "    value_loss = torch.pow(value - expected_value.detach(), 2).mean()\n",
    "\n",
    "    if learn:\n",
    "        optimizer['value_optimizer'].zero_grad()\n",
    "        value_loss.backward(retain_graph=True)\n",
    "        optimizer['value_optimizer'].step()\n",
    "\n",
    "    elif not learn and debugger:\n",
    "            debugger.writer.add_figure('next_action',\n",
    "                                        plot.pairwise_distances_fig(next_action[:50]), step)\n",
    "            debugger.writer.add_histogram('value', value, step)\n",
    "            debugger.writer.add_histogram('target_value', target_value, step)\n",
    "            debugger.writer.add_histogram('expected_value', expected_value, step)\n",
    "\n",
    "    # --------------------------------------------------------#\n",
    "    # Policy learning\n",
    "\n",
    "    gen_action = nets['policy_net'](state)\n",
    "    policy_loss = -nets['value_net'](state, gen_action)\n",
    "\n",
    "    if not learn and debugger:\n",
    "        debugger.log_object('gen_action', gen_action, test=(not learn))\n",
    "        debugger.writer.add_histogram('policy_loss', policy_loss, step)\n",
    "        debugger.writer.add_figure('next_action',\n",
    "                          plot.pairwise_distances_fig(gen_action[:50]), step)\n",
    "    policy_loss = policy_loss.mean()\n",
    "\n",
    "    if learn and step % params['policy_step'] == 0:\n",
    "        optimizer['policy_optimizer'].zero_grad()\n",
    "        policy_loss.backward(retain_graph=True)\n",
    "        torch.nn.utils.clip_grad_norm_(nets['policy_net'].parameters(), -1, 1)\n",
    "        optimizer['policy_optimizer'].step()\n",
    "\n",
    "        recnn.learning.soft_update(nets['value_net'], nets['target_value_net'], soft_tau=params['soft_tau'])\n",
    "        recnn.learning.soft_update(nets['policy_net'], nets['target_policy_net'], soft_tau=params['soft_tau'])\n",
    "\n",
    "    losses = {'value': value_loss.item(), 'policy': policy_loss.item(), 'step': step}\n",
    "    return losses\n"
   ]
  },
  {
   "cell_type": "code",
   "execution_count": 9,
   "metadata": {},
   "outputs": [],
   "source": [
    "class ReplayBuffer():\n",
    "    def __init__(self, buffer_size):\n",
    "        self.buffer = None\n",
    "        self.idx = 0\n",
    "        self.size = buffer_size\n",
    "        self.flush()\n",
    "        \n",
    "    def flush(self):\n",
    "        # state, action, reward, next_state\n",
    "        self.buffer = [torch.zeros(self.size, 256),\n",
    "                       torch.zeros(self.size, 128),\n",
    "                       torch.zeros(self.size, 1),\n",
    "                       torch.zeros(self.size, 256)]\n",
    "        self.idx = 0\n",
    "    \n",
    "    def append(self, batch):\n",
    "        \n",
    "        state, action, reward, next_state = batch\n",
    "        lower = self.idx\n",
    "        upper = state.size(0) + lower\n",
    "        self.buffer[0][lower:upper] = state\n",
    "        self.buffer[1][lower:upper] = action\n",
    "        self.buffer[2][lower:upper] = reward\n",
    "        self.buffer[3][lower:upper] = next_state\n",
    "        self.idx += upper\n",
    "        \n",
    "    def get(self):\n",
    "        return self.buffer\n",
    "    \n",
    "    def len(self):\n",
    "        return self.idx"
   ]
  },
  {
   "cell_type": "code",
   "execution_count": 11,
   "metadata": {
    "scrolled": false
   },
   "outputs": [
    {
     "data": {
      "application/vnd.jupyter.widget-view+json": {
       "model_id": "a67b0c82425c418aa3e0998f55bdf8d1",
       "version_major": 2,
       "version_minor": 0
      },
      "text/plain": [
       "HBox(children=(IntProgress(value=0, max=5340), HTML(value='')))"
      ]
     },
     "metadata": {},
     "output_type": "display_data"
    },
    {
     "name": "stdout",
     "output_type": "stream",
     "text": [
      "\n"
     ]
    }
   ],
   "source": [
    "max_buf_size = 100000\n",
    "buffer = ReplayBuffer(max_buf_size)\n",
    "\n",
    "step = 0\n",
    "for batch in tqdm(train_dataloader):\n",
    "    batch = [i.to(cuda) for i in batch]\n",
    "    items, ratings, sizes = batch\n",
    "    hidden = None\n",
    "    state = None\n",
    "    for t in range(int(sizes.min().item()) - 1):\n",
    "        action = items[:, t]\n",
    "        reward = ratings[:, t].unsqueeze(-1)\n",
    "        s = torch.cat([action, reward], 1).unsqueeze(0)\n",
    "        next_state, hidden = state_encoder(s, hidden) if hidden else state_encoder(s)\n",
    "        next_state = next_state.squeeze()\n",
    "        \n",
    "        if np.random.random() > 0.95 and state is not None:\n",
    "            batch = [state, action, reward, next_state]\n",
    "            buffer.append(batch)\n",
    "            \n",
    "        if buffer.len() >= max_buf_size:\n",
    "            loss = ddpg_update(batch, params, nets, optimizer,\n",
    "                                       cuda, debugger, step=step)\n",
    "            debugger.log_losses(loss)\n",
    "            step += 1\n",
    "            debugger.log_step(step)\n",
    "            buffer.flush()\n",
    "            \n",
    "            #if step % 100 == 0 and step > 0:\n",
    "            # debugger.test()\n",
    "            #clear_output(True)\n",
    "            #print(step)\n",
    "            #plotter.plot_loss()\n",
    "        \n",
    "        state = next_state\n"
   ]
  },
  {
   "cell_type": "code",
   "execution_count": 31,
   "metadata": {},
   "outputs": [
    {
     "data": {
      "text/plain": [
       "tensor([[ 0.0014,  0.0003,  0.0042,  ...,  0.0018, -0.0047, -0.0153],\n",
       "        [-0.0002, -0.0059, -0.0043,  ...,  0.0009, -0.0029, -0.0116],\n",
       "        [-0.0011,  0.0041,  0.0024,  ..., -0.0014, -0.0010,  0.0091],\n",
       "        ...,\n",
       "        [-0.0025, -0.0010,  0.0020,  ..., -0.0037,  0.0020,  0.0047],\n",
       "        [ 0.0011, -0.0007, -0.0060,  ...,  0.0007, -0.0012, -0.0131],\n",
       "        [ 0.0012, -0.0020,  0.0003,  ...,  0.0020, -0.0009,  0.0033]],\n",
       "       device='cuda:0')"
      ]
     },
     "execution_count": 31,
     "metadata": {},
     "output_type": "execute_result"
    }
   ],
   "source": [
    "list(state_encoder.parameters())[0].grad"
   ]
  },
  {
   "cell_type": "code",
   "execution_count": null,
   "metadata": {},
   "outputs": [],
   "source": []
  }
 ],
 "metadata": {
  "kernelspec": {
   "display_name": "Python 3",
   "language": "python",
   "name": "python3"
  },
  "language_info": {
   "codemirror_mode": {
    "name": "ipython",
    "version": 3
   },
   "file_extension": ".py",
   "mimetype": "text/x-python",
   "name": "python",
   "nbconvert_exporter": "python",
   "pygments_lexer": "ipython3",
   "version": "3.7.4"
  }
 },
 "nbformat": 4,
 "nbformat_minor": 2
}
