{
 "cells": [
  {
   "cell_type": "markdown",
   "metadata": {},
   "source": [
    "# Getting Started with recnn\n",
    "This is my school project. It focuses on Reinforcement Learning for personalized news recommendation. The main distinction is that it tries to solve online off-policy learning with dynamically generated item embeddings. I want to create a library with SOTA algorithms for reinforcement learning recommendation, providing the level of abstraction you like. In this notebook, you can play around with library's key components.\n",
    "\n",
    "P.S. this tutorial is available online on Google Colab"
   ]
  },
  {
   "cell_type": "code",
   "execution_count": 1,
   "metadata": {},
   "outputs": [],
   "source": [
    "# == recnn ==\n",
    "import sys\n",
    "sys.path.append(\"../../\")\n",
    "import recnn\n",
    "\n",
    "import torch\n",
    "from torch.utils.tensorboard import SummaryWriter\n",
    "import torch.nn as nn\n",
    "from tqdm.auto import tqdm\n",
    "\n",
    "tqdm.pandas()\n",
    "\n",
    "from jupyterthemes import jtplot\n",
    "jtplot.style(theme='grade3')"
   ]
  },
  {
   "cell_type": "markdown",
   "metadata": {},
   "source": [
    "# Environments\n",
    "\n",
    "Main abstraction of the library for datasets is called environment, similar to how other reinforcement\n",
    "learning libraries name it. This interface is created to provide SARSA like input for your RL Models. When you are working with recommendation env, you have two choices: using static length inputs (say 10 items) or dynamic length time series with sequential encoders (many to one rnn). Static length is provided via FrameEnv, and dynamic length along with sequential state representation encoder is implemented in SeqEnv. Let’s take a look at FrameEnv first:\n",
    "\n",
    "In order to initialize an env, you need to provide embeddings and ratings directories."
   ]
  },
  {
   "cell_type": "code",
   "execution_count": 2,
   "metadata": {},
   "outputs": [
    {
     "data": {
      "application/vnd.jupyter.widget-view+json": {
       "model_id": "c2af2ec9b39b452e89f3f33817244c6c",
       "version_major": 2,
       "version_minor": 0
      },
      "text/plain": [
       "HBox(children=(IntProgress(value=0, max=20000263), HTML(value='')))"
      ]
     },
     "metadata": {},
     "output_type": "display_data"
    },
    {
     "name": "stdout",
     "output_type": "stream",
     "text": [
      "\n"
     ]
    },
    {
     "data": {
      "application/vnd.jupyter.widget-view+json": {
       "model_id": "72a85bf5a1d44c4395f5c149a722ffbf",
       "version_major": 2,
       "version_minor": 0
      },
      "text/plain": [
       "HBox(children=(IntProgress(value=0, max=20000263), HTML(value='')))"
      ]
     },
     "metadata": {},
     "output_type": "display_data"
    },
    {
     "name": "stdout",
     "output_type": "stream",
     "text": [
      "\n"
     ]
    },
    {
     "data": {
      "application/vnd.jupyter.widget-view+json": {
       "model_id": "f3dbe3ecb8314191b51ffca99b0c24ee",
       "version_major": 2,
       "version_minor": 0
      },
      "text/plain": [
       "HBox(children=(IntProgress(value=0, max=138493), HTML(value='')))"
      ]
     },
     "metadata": {},
     "output_type": "display_data"
    },
    {
     "name": "stdout",
     "output_type": "stream",
     "text": [
      "\n"
     ]
    }
   ],
   "source": [
    "frame_size = 10\n",
    "batch_size = 25\n",
    "# embeddgings: https://drive.google.com/open?id=1EQ_zXBR3DKpmJR3jBgLvt-xoOvArGMsL\n",
    "env = recnn.data.env.FrameEnv('../../data/embeddings/ml20_pca128.pkl',\n",
    "                         '../../data/ml-20m/ratings.csv', frame_size, batch_size)"
   ]
  },
  {
   "cell_type": "markdown",
   "metadata": {},
   "source": [
    "You can get train and test batches directly from the environmnent"
   ]
  },
  {
   "cell_type": "code",
   "execution_count": 3,
   "metadata": {},
   "outputs": [],
   "source": [
    "train = env.train_batch()\n",
    "test = env.train_batch()\n",
    "state, action, reward, next_state, done = recnn.data.get_base_batch(train, device=torch.device('cpu'))"
   ]
  },
  {
   "cell_type": "code",
   "execution_count": 4,
   "metadata": {},
   "outputs": [
    {
     "name": "stdout",
     "output_type": "stream",
     "text": [
      "tensor([[  4.8067,  -7.3498,   7.0019,  ...,   3.0000,   5.0000,   3.0000],\n",
      "        [  3.2876,  -5.7183,   0.3667,  ...,   5.0000,   3.0000,   3.0000],\n",
      "        [  2.0030,  -4.5440,  -0.9023,  ...,   3.0000,   3.0000,   3.0000],\n",
      "        ...,\n",
      "        [  0.1932,  -0.2788, -11.6204,  ...,   5.0000,   5.0000,   5.0000],\n",
      "        [  2.7591,  -6.0453,  -0.9073,  ...,   5.0000,   5.0000,   1.0000],\n",
      "        [ 10.1940,  -2.0070,  -6.5064,  ...,   5.0000,   1.0000,   5.0000]])\n"
     ]
    }
   ],
   "source": [
    "print(state)"
   ]
  },
  {
   "cell_type": "markdown",
   "metadata": {},
   "source": [
    "You can also look at the metadata:\n",
    "    user ids and their positions"
   ]
  },
  {
   "cell_type": "code",
   "execution_count": 5,
   "metadata": {},
   "outputs": [
    {
     "data": {
      "text/plain": [
       "{'users': tensor([105759, 112851, 127738,  31033,  22467,  49079,   3665,  54211,  45820,\n",
       "          32241, 122538,  24001,   8339,  18104,  90582,  97523, 117007,  10864,\n",
       "          20141,  70515,  12913,  28082,  27024,  32192,  17066]),\n",
       " 'sizes': tensor([422,  49,  39,  28,  23,  32, 193, 112,  64,  44,  39,  45,  24, 185,\n",
       "          67, 122, 447, 100, 121,  47,  26,  88, 139, 355,  33])}"
      ]
     },
     "execution_count": 5,
     "metadata": {},
     "output_type": "execute_result"
    }
   ],
   "source": [
    "train['meta']"
   ]
  },
  {
   "cell_type": "markdown",
   "metadata": {},
   "source": [
    "## Working with metadata\n",
    "you can display user_id: their item/rating positions in the batch"
   ]
  },
  {
   "cell_type": "code",
   "execution_count": 6,
   "metadata": {},
   "outputs": [
    {
     "data": {
      "text/plain": [
       "{105759: (0, 422),\n",
       " 112851: (422, 471),\n",
       " 127738: (471, 510),\n",
       " 31033: (510, 538),\n",
       " 22467: (538, 561),\n",
       " 49079: (561, 593),\n",
       " 3665: (593, 786),\n",
       " 54211: (786, 898),\n",
       " 45820: (898, 962),\n",
       " 32241: (962, 1006),\n",
       " 122538: (1006, 1045),\n",
       " 24001: (1045, 1090),\n",
       " 8339: (1090, 1114),\n",
       " 18104: (1114, 1299),\n",
       " 90582: (1299, 1366),\n",
       " 97523: (1366, 1488),\n",
       " 117007: (1488, 1935),\n",
       " 10864: (1935, 2035),\n",
       " 20141: (2035, 2156),\n",
       " 70515: (2156, 2203),\n",
       " 12913: (2203, 2229),\n",
       " 28082: (2229, 2317),\n",
       " 27024: (2317, 2456),\n",
       " 32192: (2456, 2811),\n",
       " 17066: (2811, 2844)}"
      ]
     },
     "execution_count": 6,
     "metadata": {},
     "output_type": "execute_result"
    }
   ],
   "source": [
    "import numpy as np\n",
    "user_ends = np.cumsum(train['meta']['sizes']).numpy().tolist() + [0]\n",
    "user_starts = [0] + user_ends\n",
    "starts_ends = list(zip(user_starts, user_ends))[:-1]\n",
    "user_range = dict(zip(train['meta']['users'].numpy(), starts_ends))\n",
    "user_range"
   ]
  },
  {
   "cell_type": "markdown",
   "metadata": {},
   "source": [
    "# Recommending"
   ]
  },
  {
   "cell_type": "markdown",
   "metadata": {},
   "source": [
    "Let's initialize main networks, and recommend something!"
   ]
  },
  {
   "cell_type": "code",
   "execution_count": 7,
   "metadata": {},
   "outputs": [],
   "source": [
    "value_net  = recnn.nn.Critic(1290, 128, 256, 54e-2)\n",
    "policy_net = recnn.nn.Actor(1290, 128, 256, 6e-1)"
   ]
  },
  {
   "cell_type": "code",
   "execution_count": 8,
   "metadata": {},
   "outputs": [
    {
     "name": "stdout",
     "output_type": "stream",
     "text": [
      "tensor([[ 7.7723, -6.2768, -1.0842,  ...,  6.2970,  1.0282, -2.4168],\n",
      "        [-2.2751, -3.7143,  0.0390,  ..., -2.1573, -5.5152, -1.8992],\n",
      "        [ 0.3604,  2.7162,  1.6190,  ...,  2.2778, -5.5555,  0.2379],\n",
      "        ...,\n",
      "        [-3.3663,  5.4311,  0.3353,  ...,  0.4450, -1.2203, -5.5681],\n",
      "        [ 2.9929,  6.2150,  4.2708,  ...,  1.4514,  1.2244,  4.3862],\n",
      "        [-1.2558, -1.3943, -0.8355,  ...,  1.8406, -5.8229, -0.2041]],\n",
      "       grad_fn=<AddmmBackward>)\n",
      "tensor([[ 5.2934],\n",
      "        [ 0.2163],\n",
      "        [-1.5234],\n",
      "        ...,\n",
      "        [-0.2431],\n",
      "        [ 7.0792],\n",
      "        [ 2.2493]], grad_fn=<AddmmBackward>)\n"
     ]
    }
   ],
   "source": [
    "recommendation = policy_net(state)\n",
    "value = value_net(state, recommendation)\n",
    "print(recommendation)\n",
    "print(value)"
   ]
  },
  {
   "cell_type": "markdown",
   "metadata": {},
   "source": [
    "# Algo classes\n",
    "\n",
    "Algo is a high level abstraction for an RL algorithm. You need two networks (policy and value) in order to initialize it. Later on you can tweak parameters and stuff in the algo itself\n",
    ".\n",
    "#### Important: you can set writer to torch.SummaryWriter and get the debug output\n",
    "\n",
    "\n",
    "## Tweak how you want\n",
    "```\n",
    "ddpg = recnn.nn.DDPG(policy_net, value_net)\n",
    "print(ddpg.params)\n",
    "ddpg.params['gamma'] = 0.9\n",
    "ddpg.params['policy_step'] = 3\n",
    "ddpg.optimizers['policy_optimizer'] = torch.optim.Adam(ddpg.nets['policy_net'], your_lr)\n",
    "ddpg.writer = torch.utils.tensorboard.SummaryWriter('./runs')\n",
    "ddpg = ddpg.to(torch.device('cuda'))\n",
    "```\n",
    "\n",
    "ddpg.loss_layout is also handy, it allows you to see how the loss should look like"
   ]
  },
  {
   "cell_type": "code",
   "execution_count": 9,
   "metadata": {},
   "outputs": [],
   "source": [
    "# test function\n",
    "def run_tests():\n",
    "    batch = next(iter(env.test_dataloader))\n",
    "    loss = ddpg.update(batch, learn=False)\n",
    "    return loss"
   ]
  },
  {
   "cell_type": "code",
   "execution_count": 10,
   "metadata": {},
   "outputs": [],
   "source": [
    "value_net  = recnn.nn.Critic(1290, 128, 256, 54e-2)\n",
    "policy_net = recnn.nn.Actor(1290, 128, 256, 6e-1)"
   ]
  },
  {
   "cell_type": "code",
   "execution_count": 11,
   "metadata": {},
   "outputs": [],
   "source": [
    "cuda = torch.device('cuda')\n",
    "ddpg = recnn.nn.DDPG(policy_net, value_net)\n",
    "ddpg = ddpg.to(cuda)\n",
    "ddpg.writer = SummaryWriter(log_dir='../../runs')\n",
    "plotter = recnn.utils.Plotter(ddpg.loss_layout, [['value', 'policy']],)"
   ]
  },
  {
   "cell_type": "code",
   "execution_count": null,
   "metadata": {},
   "outputs": [
    {
     "name": "stdout",
     "output_type": "stream",
     "text": [
      "step 900\n"
     ]
    },
    {
     "data": {
      "image/png": "[encoded data removed]",
      "text/plain": [
       "<Figure size 1152x432 with 2 Axes>"
      ]
     },
     "metadata": {
      "needs_background": "light"
     },
     "output_type": "display_data"
    }
   ],
   "source": [
    "from IPython.display import clear_output\n",
    "import matplotlib.pyplot as plt\n",
    "%matplotlib inline\n",
    "\n",
    "plot_every = 50\n",
    "n_epochs = 2\n",
    "\n",
    "def learn():\n",
    "    for epoch in range(n_epochs):\n",
    "        for batch in tqdm(env.train_dataloader):\n",
    "            loss = ddpg.update(batch, learn=True)\n",
    "            plotter.log_losses(loss)\n",
    "            ddpg.step()\n",
    "            if ddpg._step % plot_every == 0:\n",
    "                clear_output(True)\n",
    "                print('step', ddpg._step)\n",
    "                test_loss = run_tests()\n",
    "                plotter.log_losses(test_loss, test=True)\n",
    "                plotter.plot_loss()\n",
    "            if ddpg._step > 1000:\n",
    "                return\n",
    "            \n",
    "learn()"
   ]
  },
  {
   "cell_type": "markdown",
   "metadata": {},
   "source": [
    "# Update Functions\n",
    "## Here is what's going on inside algo class"
   ]
  },
  {
   "cell_type": "code",
   "execution_count": null,
   "metadata": {},
   "outputs": [],
   "source": [
    "value_net  = recnn.nn.Critic(1290, 128, 256, 54e-2)\n",
    "policy_net = recnn.nn.Actor(1290, 128, 256, 6e-1)\n",
    "# these are target networks that we need for ddpg algorigm to work\n",
    "target_value_net = recnn.nn.Critic(1290, 128, 256)\n",
    "target_policy_net = recnn.nn.Actor(1290, 128, 256)\n",
    "\n",
    "target_policy_net.eval()\n",
    "target_value_net.eval()\n",
    "\n",
    "\n",
    "# soft update\n",
    "recnn.utils.soft_update(value_net, target_value_net, soft_tau=1.0)\n",
    "recnn.utils.soft_update(policy_net, target_policy_net, soft_tau=1.0)\n",
    "\n",
    "# define optimizers\n",
    "value_optimizer = recnn.optim.RAdam(value_net.parameters(),\n",
    "                              lr=1e-5, weight_decay=1e-2)\n",
    "policy_optimizer = recnn.optim.RAdam(policy_net.parameters(), lr=1e-5 , weight_decay=1e-2)\n",
    "\n",
    "nets = {\n",
    "    'value_net': value_net.to(cuda),\n",
    "    'target_value_net': target_value_net.to(cuda),\n",
    "    'policy_net': policy_net.to(cuda),\n",
    "    'target_policy_net': target_policy_net.to(cuda),\n",
    "}\n",
    "\n",
    "optimizer = {\n",
    "    'policy_optimizer': policy_optimizer,\n",
    "    'value_optimizer':  value_optimizer\n",
    "}\n",
    "\n",
    "debug = {}\n",
    "writer = recnn.utils.misc.DummyWriter()\n"
   ]
  },
  {
   "cell_type": "code",
   "execution_count": null,
   "metadata": {},
   "outputs": [],
   "source": [
    "step = 0\n",
    "params = {\n",
    "    'gamma'      : 0.99,\n",
    "    'min_value'  : -10,\n",
    "    'max_value'  : 10,\n",
    "    'policy_step': 10,\n",
    "    'soft_tau'   : 0.001,\n",
    "}\n",
    "batch = {'state': state, 'action': action, 'reward': reward, 'next_state': next_state, 'done':done}\n",
    "loss = recnn.nn.update.ddpg_update(batch, params, nets, optimizer, cuda, debug, writer, step=step)\n",
    "print(loss)"
   ]
  },
  {
   "cell_type": "markdown",
   "metadata": {},
   "source": [
    "## Training Loop\n",
    "Let's wrap this thing in the training loop. I also will use Colab's gpu for training.\n",
    "\n",
    "In an error pops up, go to runtime -> change runtime type -> select GPU. And also restart the session."
   ]
  },
  {
   "cell_type": "code",
   "execution_count": null,
   "metadata": {},
   "outputs": [],
   "source": [
    "cuda = torch.device('cuda')\n",
    "loss = {\n",
    "    'test': {'value': [], 'policy': [], 'step': []},\n",
    "    'train': {'value': [], 'policy': [], 'step': []}\n",
    "    }\n",
    "\n",
    "plotter = recnn.utils.Plotter(loss, [['value', 'policy']],)"
   ]
  },
  {
   "cell_type": "code",
   "execution_count": null,
   "metadata": {},
   "outputs": [],
   "source": [
    "# test function\n",
    "def run_tests():\n",
    "    batch = next(iter(env.test_dataloader))\n",
    "    loss = recnn.nn.ddpg_update(batch, params, nets, optimizer,\n",
    "                       cuda, debug, writer, step=step, learn=False)\n",
    "    return loss"
   ]
  },
  {
   "cell_type": "code",
   "execution_count": null,
   "metadata": {},
   "outputs": [],
   "source": [
    "from IPython.display import clear_output\n",
    "import matplotlib.pyplot as plt\n",
    "%matplotlib inline\n",
    "\n",
    "plot_every = 50\n",
    "n_epochs = 2\n",
    "\n",
    "def learn():\n",
    "    step = 0\n",
    "    for epoch in range(n_epochs):\n",
    "        for batch in tqdm(env.train_dataloader):\n",
    "            loss = recnn.nn.ddpg_update(batch, params, nets, optimizer,\n",
    "                                        device=cuda,\n",
    "                                        debug=debug, writer=writer,\n",
    "                                        learn=True, step=step)\n",
    "            plotter.log_losses(loss)\n",
    "            step += 1\n",
    "            if step % plot_every == 0:\n",
    "                clear_output(True)\n",
    "                print('step', step)\n",
    "                test_loss = run_tests()\n",
    "                plotter.log_losses(test_loss, test=True)\n",
    "                plotter.plot_loss()\n",
    "            if step > 1000:\n",
    "                return\n",
    "            \n",
    "        \n",
    "learn()"
   ]
  },
  {
   "cell_type": "code",
   "execution_count": null,
   "metadata": {},
   "outputs": [],
   "source": [
    "def plot_grad_flow(named_parameters):\n",
    "    ave_grads = []\n",
    "    layers = []\n",
    "    for n, p in named_parameters:\n",
    "        if(p.requires_grad) and (\"bias\" not in n):\n",
    "            print('plotting', n)\n",
    "            layers.append(n)\n",
    "            ave_grads.append(p.grad.abs().mean())\n",
    "    plt.plot(ave_grads, alpha=0.3, color=\"b\")\n",
    "    plt.hlines(0, 0, len(ave_grads)+1, linewidth=1, color=\"k\" )\n",
    "    plt.xticks(range(0,len(ave_grads), 1), layers, rotation=\"vertical\")\n",
    "    plt.xlim(xmin=0, xmax=len(ave_grads))\n",
    "    plt.xlabel(\"Layers\")\n",
    "    plt.ylabel(\"average gradient\")\n",
    "    plt.title(\"Gradient flow\")\n",
    "    plt.grid(True)"
   ]
  },
  {
   "cell_type": "code",
   "execution_count": null,
   "metadata": {},
   "outputs": [],
   "source": [
    "plot_grad_flow(ddpg.nets['policy_net'].named_parameters())"
   ]
  },
  {
   "cell_type": "code",
   "execution_count": null,
   "metadata": {},
   "outputs": [],
   "source": []
  },
  {
   "cell_type": "code",
   "execution_count": null,
   "metadata": {},
   "outputs": [],
   "source": []
  }
 ],
 "metadata": {
  "kernelspec": {
   "display_name": "Python 3",
   "language": "python",
   "name": "python3"
  },
  "language_info": {
   "codemirror_mode": {
    "name": "ipython",
    "version": 3
   },
   "file_extension": ".py",
   "mimetype": "text/x-python",
   "name": "python",
   "nbconvert_exporter": "python",
   "pygments_lexer": "ipython3",
   "version": "3.7.3"
  }
 },
 "nbformat": 4,
 "nbformat_minor": 2
}
