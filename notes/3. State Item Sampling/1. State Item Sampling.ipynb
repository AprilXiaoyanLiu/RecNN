{
 "cells": [
  {
   "cell_type": "code",
   "execution_count": 1,
   "metadata": {},
   "outputs": [],
   "source": [
    "import torch\n",
    "import torch.nn as nn\n",
    "import torch.nn.functional as F\n",
    "import torch.optim as optim\n",
    "from torch.utils.data import Dataset, DataLoader"
   ]
  },
  {
   "cell_type": "code",
   "execution_count": 33,
   "metadata": {},
   "outputs": [],
   "source": [
    "import numpy as np\n",
    "import pandas as pd\n",
    "from tqdm import tqdm_notebook as tqdm\n",
    "import pickle\n",
    "import json\n",
    "import h5py\n",
    "\n",
    "def load_file(path, name):\n",
    "    import importlib.util\n",
    "    spec = importlib.util.spec_from_file_location(name, path)\n",
    "    mod = importlib.util.module_from_spec(spec)\n",
    "    spec.loader.exec_module(mod)\n",
    "    return mod\n",
    "\n",
    "plot = load_file(\"../../utils/plot.py\", \"plot\")\n",
    "radam = load_file(\"../../utils/optim.py\", \"radam\")\n",
    "models = load_file(\"../../utils/models.py\", \"models\")\n",
    "\n",
    "cuda = torch.device('cuda')\n",
    "frame_size = 10\n",
    "# https://drive.google.com/open?id=1kTyu05ZmtP2MA33J5hWdX8OyUYEDW4iI\n",
    "movie_ref = pickle.load(open('../../data/infos_pca128.pytorch', 'rb'))\n",
    "# on my system os error often pops up\n",
    "# try to open the file explorer and copy paste the path again \n",
    "# https://drive.google.com/open?id=1pPf-7AmUVceVfgfmKEJ6ireEDKEJHw-7\n",
    "f = h5py.File(\"../../data/test/test.hdf5\", \"r\")"
   ]
  },
  {
   "cell_type": "code",
   "execution_count": 41,
   "metadata": {},
   "outputs": [],
   "source": [
    "csv_ratings = pd.read_csv('../../data/ml-20m/ratings.csv')\n",
    "users = csv_ratings.groupby([\"userId\"]).size()\n",
    "users = users[users >= frame_size + 1][users < 5700]\n",
    "users = users.sort_values(ascending=False).index\n",
    "# del csv_ratings"
   ]
  },
  {
   "cell_type": "code",
   "execution_count": 35,
   "metadata": {},
   "outputs": [],
   "source": [
    "def soft_update(net, target_net, soft_tau=1e-2):\n",
    "    for target_param, param in zip(target_net.parameters(), net.parameters()):\n",
    "            target_param.data.copy_(\n",
    "                target_param.data * (1.0 - soft_tau) + param.data * soft_tau\n",
    "            )"
   ]
  },
  {
   "cell_type": "code",
   "execution_count": 36,
   "metadata": {},
   "outputs": [],
   "source": [
    "frame_size = 10\n",
    "batch_size = 1000"
   ]
  },
  {
   "cell_type": "code",
   "execution_count": 37,
   "metadata": {},
   "outputs": [
    {
     "data": {
      "application/vnd.jupyter.widget-view+json": {
       "model_id": "7b6eb4c170ae4162915c48c672d3701a",
       "version_major": 2,
       "version_minor": 0
      },
      "text/plain": [
       "HBox(children=(IntProgress(value=0, max=138491), HTML(value='')))"
      ]
     },
     "metadata": {},
     "output_type": "display_data"
    }
   ],
   "source": [
    "user_bar = tqdm(total=len(users))\n",
    "batch = []\n",
    "\n",
    "g_idx = 0\n",
    "batch = [[], [], []]\n",
    "\n",
    "class UserDataset(Dataset):\n",
    "\n",
    "    def __init__(self, users):\n",
    "        self.users = users\n",
    "\n",
    "    def __len__(self):\n",
    "        return len(self.users)\n",
    "\n",
    "    def __getitem__(self, idx):\n",
    "        idx = self.users[idx]\n",
    "        group = f['u' + str(idx)]\n",
    "        movies = torch.tensor(group['movies'][:])\n",
    "        print(movies)\n",
    "        rates = torch.tensor(group['ratings'][:])\n",
    "        size = movies.size(0)\n",
    "        return {'movies': movies, 'rates': rates, 'size': size}\n",
    "        "
   ]
  },
  {
   "cell_type": "code",
   "execution_count": 38,
   "metadata": {},
   "outputs": [],
   "source": [
    "def padder(x):\n",
    "    movies_t = []\n",
    "    ratings_t = []\n",
    "    sizes_t = []\n",
    "    for i in range(len(x)):\n",
    "        movies_t.append(x[i]['movies'])\n",
    "        ratings_t.append(x[i]['rates'])\n",
    "        sizes_t.append(x[i]['size'])\n",
    "    movies_t = torch.nn.utils.rnn.pad_sequence(movies_t, batch_first=True)\n",
    "    ratings_t = torch.nn.utils.rnn.pad_sequence(ratings_t, batch_first=True)\n",
    "    sizes_t = torch.tensor(sizes_t)\n",
    "    return {'movies': movies_t, 'rates': ratings_t, 'size': sizes_t}"
   ]
  },
  {
   "cell_type": "code",
   "execution_count": 39,
   "metadata": {},
   "outputs": [],
   "source": [
    "user_dataset = UserDataset(users)\n",
    "dataloader = DataLoader(user_dataset, batch_size=25,\n",
    "                        shuffle=False, num_workers=1,collate_fn=padder)"
   ]
  },
  {
   "cell_type": "code",
   "execution_count": 40,
   "metadata": {},
   "outputs": [
    {
     "data": {
      "application/vnd.jupyter.widget-view+json": {
       "model_id": "ccffec5994564f64aa315fb1248fe07b",
       "version_major": 2,
       "version_minor": 0
      },
      "text/plain": [
       "HBox(children=(IntProgress(value=0, max=5540), HTML(value='')))"
      ]
     },
     "metadata": {},
     "output_type": "display_data"
    },
    {
     "name": "stdout",
     "output_type": "stream",
     "text": [
      "tensor([     1,      2,      3,  ..., 118997, 119155, 129659],\n",
      "       dtype=torch.int32)\n",
      "tensor([     1,      2,      3,  ..., 119145, 120400, 122131],\n",
      "       dtype=torch.int32)\n",
      "tensor([     1,      2,      5,  ..., 128812, 129644, 129818],\n",
      "       dtype=torch.int32)\n",
      "tensor([     1,      2,      3,  ..., 129401, 129474, 130900],\n",
      "       dtype=torch.int32)\n",
      "tensor([    1,     2,     3,  ..., 89275, 89594, 89607], dtype=torch.int32)\n",
      "tensor([     1,      2,      6,  ..., 128488, 129340, 130622],\n",
      "       dtype=torch.int32)\n",
      "tensor([   1,    2,    3,  ..., 6531, 6910, 6918], dtype=torch.int32)\n",
      "tensor([     1,      2,      5,  ..., 129447, 129449, 131017],\n",
      "       dtype=torch.int32)\n",
      "tensor([    1,     6,    16,  ..., 92167, 92174, 92176], dtype=torch.int32)\n",
      "tensor([    1,     2,     3,  ..., 80421, 80424, 80494], dtype=torch.int32)\n",
      "tensor([     1,      4,      6,  ..., 128898, 129068, 130512],\n",
      "       dtype=torch.int32)\n",
      "tensor([     2,      6,      7,  ..., 109893, 110412, 110441],\n",
      "       dtype=torch.int32)\n",
      "tensor([    1,     2,     3,  ..., 74324, 78517, 78898], dtype=torch.int32)\n",
      "tensor([     1,      2,      3,  ..., 116823, 119068, 119141],\n",
      "       dtype=torch.int32)\n",
      "tensor([    1,     2,     3,  ..., 78499, 78574, 79091], dtype=torch.int32)\n",
      "tensor([     1,      2,      3,  ..., 121029, 121031, 122932],\n",
      "       dtype=torch.int32)\n",
      "tensor([     1,      2,      3,  ..., 130204, 130328, 130746],\n",
      "       dtype=torch.int32)\n",
      "tensor([    1,     6,    11,  ..., 92156, 92167, 92178], dtype=torch.int32)\n",
      "tensor([     2,      3,      6,  ..., 130746, 130804, 130828],\n",
      "       dtype=torch.int32)\n",
      "tensor([     1,      2,      3,  ..., 115210, 116857, 118696],\n",
      "       dtype=torch.int32)\n",
      "tensor([     1,      3,      6,  ..., 103335, 104076, 109284],\n",
      "       dtype=torch.int32)\n",
      "tensor([     1,      2,      3,  ..., 123288, 126430, 128904],\n",
      "       dtype=torch.int32)\n",
      "tensor([     1,      2,      3,  ..., 112852, 113604, 114180],\n",
      "       dtype=torch.int32)\n",
      "tensor([     5,      6,     11,  ..., 112556, 113225, 115569],\n",
      "       dtype=torch.int32)\n",
      "tensor([    1,     2,     3,  ..., 92420, 92448, 92719], dtype=torch.int32)\n",
      "tensor([     1,      6,      9,  ..., 130420, 130458, 130562],\n",
      "       dtype=torch.int32)\n",
      "tensor([     1,      2,      3,  ..., 107141, 109055, 109203],\n",
      "       dtype=torch.int32)\n",
      "tensor([     1,      2,      3,  ..., 127484, 129348, 130351],\n",
      "       dtype=torch.int32)\n",
      "tensor([     1,      2,      3,  ..., 121588, 124412, 128717],\n",
      "       dtype=torch.int32)\n",
      "tensor([     1,      2,      3,  ..., 127319, 128488, 130580],\n",
      "       dtype=torch.int32)\n",
      "tensor([    1,     2,     3,  ..., 91630, 91653, 92023], dtype=torch.int32)\n",
      "tensor([     1,      2,      3,  ..., 123467, 127390, 128944],\n",
      "       dtype=torch.int32)\n",
      "tensor([     1,      3,      6,  ..., 101864, 101893, 101895],\n",
      "       dtype=torch.int32)\n",
      "tensor([    1,     2,     6,  ..., 90009, 90476, 90620], dtype=torch.int32)\n",
      "tensor([    1,     2,     3,  ..., 91658, 92064, 92132], dtype=torch.int32)\n",
      "tensor([     1,      2,      3,  ..., 102749, 103042, 103249],\n",
      "       dtype=torch.int32)\n",
      "tensor([     1,      2,      6,  ..., 106022, 106782, 106920],\n",
      "       dtype=torch.int32)\n",
      "tensor([     1,      2,      3,  ..., 128832, 129428, 130642],\n",
      "       dtype=torch.int32)\n",
      "tensor([     1,      2,      3,  ..., 116823, 117533, 127321],\n",
      "       dtype=torch.int32)\n",
      "tensor([     1,      2,      3,  ..., 119141, 121253, 128318],\n",
      "       dtype=torch.int32)\n",
      "tensor([     1,      2,      3,  ..., 117549, 118766, 118930],\n",
      "       dtype=torch.int32)\n",
      "tensor([   2,    3,    4,  ..., 6184, 6460, 6531], dtype=torch.int32)\n",
      "tensor([     1,      2,      3,  ..., 106920, 107069, 107141],\n",
      "       dtype=torch.int32)\n",
      "tensor([     1,      6,     10,  ..., 128960, 129699, 130016],\n",
      "       dtype=torch.int32)\n",
      "tensor([     1,      2,      5,  ..., 114704, 117109, 128922],\n",
      "       dtype=torch.int32)\n",
      "tensor([     1,      2,      3,  ..., 114723, 115180, 115381],\n",
      "       dtype=torch.int32)\n",
      "tensor([    1,     2,     6,  ..., 82904, 83349, 86332], dtype=torch.int32)\n",
      "tensor([    3,     4,     5,  ..., 56788, 58303, 59725], dtype=torch.int32)\n",
      "tensor([     1,      6,     10,  ..., 127441, 128215, 128671],\n",
      "       dtype=torch.int32)\n",
      "tensor([     1,      2,      3,  ..., 103444, 103609, 103813],\n",
      "       dtype=torch.int32)\n",
      "tensor([[     1,      2,      3,  ..., 118997, 119155, 129659],\n",
      "        [     1,      2,      3,  ...,      0,      0,      0],\n",
      "        [     1,      2,      5,  ...,      0,      0,      0],\n",
      "        ...,\n",
      "        [     1,      2,      3,  ...,      0,      0,      0],\n",
      "        [     5,      6,     11,  ...,      0,      0,      0],\n",
      "        [     1,      2,      3,  ...,      0,      0,      0]],\n",
      "       dtype=torch.int32)\n"
     ]
    }
   ],
   "source": [
    "for batch in tqdm(dataloader):\n",
    "    print(batch['movies'])\n",
    "    break"
   ]
  },
  {
   "cell_type": "code",
   "execution_count": null,
   "metadata": {},
   "outputs": [],
   "source": []
  },
  {
   "cell_type": "code",
   "execution_count": null,
   "metadata": {},
   "outputs": [],
   "source": []
  },
  {
   "cell_type": "code",
   "execution_count": null,
   "metadata": {},
   "outputs": [],
   "source": []
  },
  {
   "cell_type": "code",
   "execution_count": null,
   "metadata": {},
   "outputs": [],
   "source": []
  }
 ],
 "metadata": {
  "kernelspec": {
   "display_name": "Python 3",
   "language": "python",
   "name": "python3"
  },
  "language_info": {
   "codemirror_mode": {
    "name": "ipython",
    "version": 3
   },
   "file_extension": ".py",
   "mimetype": "text/x-python",
   "name": "python",
   "nbconvert_exporter": "python",
   "pygments_lexer": "ipython3",
   "version": "3.7.4"
  }
 },
 "nbformat": 4,
 "nbformat_minor": 2
}
