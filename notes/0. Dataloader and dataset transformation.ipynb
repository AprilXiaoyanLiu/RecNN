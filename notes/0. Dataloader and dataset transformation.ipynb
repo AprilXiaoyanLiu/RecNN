{
 "cells": [
  {
   "cell_type": "markdown",
   "metadata": {},
   "source": [
    "## Data preprocessing\n",
    "\n",
    "Let's start off by preprocessing our data.\n",
    "Just run the code, it will download the dataset and do all the things for you.\n",
    "We have a table of movies which includes genres and tags. Tags stored as another table that has relevances associated with each tag. The main idea I imply here is that I sort tag by -relevance (in descending order) and put them in string. Then I split the genres (which are listed separated by |) and prepend them to the start of the line.\n",
    "Just run the code and see the final table, nothing profusely educating here."
   ]
  },
  {
   "cell_type": "markdown",
   "metadata": {},
   "source": [
    "### Movies"
   ]
  },
  {
   "cell_type": "code",
   "execution_count": 1,
   "metadata": {},
   "outputs": [
    {
     "name": "stdout",
     "output_type": "stream",
     "text": [
      "Better speed can be achieved with apex installed from https://www.github.com/nvidia/apex.\n",
      "reading csv: ['genome-scores.csv', 'genome-tags.csv', 'links.csv', 'movies.csv', 'ratings.csv', 'ratings_by_user.p', 'README.txt', 'tags.csv']\n"
     ]
    },
    {
     "data": {
      "application/vnd.jupyter.widget-view+json": {
       "model_id": "d79962a5870f4d60985539f5e8a2ec3a",
       "version_major": 2,
       "version_minor": 0
      },
      "text/plain": [
       "HBox(children=(IntProgress(value=0, max=8), HTML(value='')))"
      ]
     },
     "metadata": {},
     "output_type": "display_data"
    },
    {
     "name": "stdout",
     "output_type": "stream",
     "text": [
      "\n"
     ]
    }
   ],
   "source": [
    "import zipfile\n",
    "import wget\n",
    "import os\n",
    "import pandas as pd\n",
    "from tqdm import tqdm_notebook as tqdm\n",
    "from pytorch_pretrained_bert import BertTokenizer, BertModel\n",
    "\n",
    "files = dict()\n",
    "url = 'http://files.grouplens.org/datasets/movielens/ml-20m.zip'  \n",
    "path = os.path.abspath(os.path.join(os.getcwd(), '..', 'data'))\n",
    "zippath = os.path.join(path, 'ml-20m.zip')\n",
    "if not os.path.isfile(zippath):\n",
    "    wget.download(url, path)\n",
    "    zip_ref = zipfile.ZipFile(zippath, 'r')\n",
    "    zip_ref.extractall(path)\n",
    "    zip_ref.close()\n",
    "path = os.path.join(path, 'ml-20m')\n",
    "print('reading csv:', os.listdir(path))\n",
    "for file in tqdm(os.listdir(path)):\n",
    "        if file.endswith('.csv'):\n",
    "            files[file.split('.')[0]] = pd.read_csv(os.path.join(path, file))"
   ]
  },
  {
   "cell_type": "code",
   "execution_count": 2,
   "metadata": {},
   "outputs": [],
   "source": [
    "from pytorch_pretrained_bert import BertTokenizer\n",
    "tokenizer = BertTokenizer.from_pretrained('bert-base-uncased')"
   ]
  },
  {
   "cell_type": "code",
   "execution_count": 3,
   "metadata": {},
   "outputs": [],
   "source": [
    "def reverse_respect_sort(X, Y):\n",
    "    return list(reversed([x for _, x in sorted(zip(Y,X), key=lambda pair: pair[0])]))\n",
    "\n",
    "def get_tags(t, max_tags):\n",
    "    tags = dict()\n",
    "    tags['relevance'] = t['relevance'].tolist()\n",
    "    tags['tag'] = t['tag'].tolist()\n",
    "\n",
    "    tags = reverse_respect_sort(tags['tag'], tags['relevance'])[:max_tags]\n",
    "    tags = ' '.join(tags)\n",
    "    return tags\n",
    "\n",
    "def data_processor(files):\n",
    "    files['user-tags'] = files['tags']\n",
    "    files['tags'] = files['genome-scores'].merge(files['genome-tags'], left_on='tagId',\n",
    "                                                   right_on='tagId', how='inner')\n",
    "    del files['genome-scores']\n",
    "    del files['genome-tags']\n",
    "    del files['links']\n",
    "    files['tags'] = files['tags'].sort_values(by=['movieId', 'tagId']).reset_index(drop=True)\n",
    "    files['ratings'] = files['ratings'].sort_values(by=['userId', 'timestamp']).reset_index(drop=True)\n",
    "    \n",
    "    titles = files['movies']['title'].map(lambda s: s[:s.find(\"(\")])\n",
    "    \n",
    "    del files['movies']['title']\n",
    "    files['movies']['title'] = titles\n",
    "    return files\n",
    "    \n",
    "files = data_processor(files)"
   ]
  },
  {
   "cell_type": "code",
   "execution_count": 4,
   "metadata": {},
   "outputs": [
    {
     "data": {
      "application/vnd.jupyter.widget-view+json": {
       "model_id": "0631ae5aa4034cddb463bbb1cf3d7fac",
       "version_major": 2,
       "version_minor": 0
      },
      "text/plain": [
       "HBox(children=(IntProgress(value=0, max=27278), HTML(value='')))"
      ]
     },
     "metadata": {},
     "output_type": "display_data"
    },
    {
     "name": "stdout",
     "output_type": "stream",
     "text": [
      "\n"
     ]
    }
   ],
   "source": [
    "import torch\n",
    "cuda = torch.device('cuda')\n",
    "bert = BertModel.from_pretrained('bert-base-uncased').to(cuda)\n",
    "\n",
    "all_movies_id = files['movies']['movieId'].tolist()\n",
    "max_tags = 50\n",
    "\n",
    "data_films = pd.DataFrame()\n",
    "\n",
    "infos = []\n",
    "\n",
    "for m in tqdm(all_movies_id):\n",
    "    movie = files['movies'].loc[all_movies_id.index(m)]\n",
    "    \n",
    "    tags = files['tags'].loc[files['tags']['movieId'] == m]\n",
    "    tags = get_tags(tags, max_tags)\n",
    "    genres = ' '.join(movie['genres'].split('|'))\n",
    "    \n",
    "    total = dict()\n",
    "    total['id'] = movie['movieId']\n",
    "    total['info'] = movie['title'] + ' ' + genres + ' ' + tags\n",
    "    total['info'] = tokenizer.tokenize(total['info'])\n",
    "    info = tokenizer.convert_tokens_to_ids(total['info'])\n",
    "    info =torch.tensor([info]).to(cuda)\n",
    "    \n",
    "    _, info_encoded = bert(info)\n",
    "    \n",
    "    info_encoded = info_encoded.detach().cpu()\n",
    "    \n",
    "    #total = pd.DataFrame(total, index=[0])\n",
    "    #data_films = data_films.append(total, ignore_index=True)\n",
    "    \n",
    "    infos.append(info_encoded)"
   ]
  },
  {
   "cell_type": "code",
   "execution_count": 3,
   "metadata": {},
   "outputs": [],
   "source": [
    "import pickle\n",
    "id_to_index = dict([(id, idx) for id, idx in zip(data_films['id'].tolist(), data_films.index.tolist())])\n",
    "pickle.dump(id_to_index, open(\"../data/id_to_index.p\", \"wb\"))"
   ]
  },
  {
   "cell_type": "code",
   "execution_count": 7,
   "metadata": {},
   "outputs": [
    {
     "data": {
      "text/html": [
       "<div>\n",
       "<style scoped>\n",
       "    .dataframe tbody tr th:only-of-type {\n",
       "        vertical-align: middle;\n",
       "    }\n",
       "\n",
       "    .dataframe tbody tr th {\n",
       "        vertical-align: top;\n",
       "    }\n",
       "\n",
       "    .dataframe thead th {\n",
       "        text-align: right;\n",
       "    }\n",
       "</style>\n",
       "<table border=\"1\" class=\"dataframe\">\n",
       "  <thead>\n",
       "    <tr style=\"text-align: right;\">\n",
       "      <th></th>\n",
       "      <th>id</th>\n",
       "      <th>info</th>\n",
       "    </tr>\n",
       "  </thead>\n",
       "  <tbody>\n",
       "    <tr>\n",
       "      <th>0</th>\n",
       "      <td>1</td>\n",
       "      <td>['toy', 'story', 'adventure', 'animation', 'ch...</td>\n",
       "    </tr>\n",
       "    <tr>\n",
       "      <th>1</th>\n",
       "      <td>2</td>\n",
       "      <td>['ju', '##man', '##ji', 'adventure', 'children...</td>\n",
       "    </tr>\n",
       "    <tr>\n",
       "      <th>2</th>\n",
       "      <td>3</td>\n",
       "      <td>['gr', '##ump', '##ier', 'old', 'men', 'comedy...</td>\n",
       "    </tr>\n",
       "    <tr>\n",
       "      <th>3</th>\n",
       "      <td>4</td>\n",
       "      <td>['waiting', 'to', 'ex', '##hale', 'comedy', 'd...</td>\n",
       "    </tr>\n",
       "    <tr>\n",
       "      <th>4</th>\n",
       "      <td>5</td>\n",
       "      <td>['father', 'of', 'the', 'bride', 'part', 'ii',...</td>\n",
       "    </tr>\n",
       "  </tbody>\n",
       "</table>\n",
       "</div>"
      ],
      "text/plain": [
       "   id                                               info\n",
       "0   1  ['toy', 'story', 'adventure', 'animation', 'ch...\n",
       "1   2  ['ju', '##man', '##ji', 'adventure', 'children...\n",
       "2   3  ['gr', '##ump', '##ier', 'old', 'men', 'comedy...\n",
       "3   4  ['waiting', 'to', 'ex', '##hale', 'comedy', 'd...\n",
       "4   5  ['father', 'of', 'the', 'bride', 'part', 'ii',..."
      ]
     },
     "execution_count": 7,
     "metadata": {},
     "output_type": "execute_result"
    }
   ],
   "source": [
    "data_films.head()"
   ]
  },
  {
   "cell_type": "code",
   "execution_count": 8,
   "metadata": {},
   "outputs": [],
   "source": [
    "data_films.to_csv('../data/movies.csv',index=False)"
   ]
  },
  {
   "cell_type": "markdown",
   "metadata": {},
   "source": [
    "### Users \n",
    "Huge thanks to [this question](https://stackoverflow.com/questions/40357434/pandas-df-iterrow-parallelization)"
   ]
  },
  {
   "cell_type": "code",
   "execution_count": 12,
   "metadata": {},
   "outputs": [
    {
     "data": {
      "application/vnd.jupyter.widget-view+json": {
       "model_id": "018cdd50ef4d4354bb6b86f3a7973d94",
       "version_major": 2,
       "version_minor": 0
      },
      "text/plain": [
       "HBox(children=(IntProgress(value=0, max=138493), HTML(value='')))"
      ]
     },
     "metadata": {},
     "output_type": "display_data"
    },
    {
     "name": "stdout",
     "output_type": "stream",
     "text": [
      "\n"
     ]
    }
   ],
   "source": [
    "ratings = pd.read_csv('../data/ml-20m/ratings.csv')\n",
    "users = set(ratings['userId'])\n",
    "ratings_by_user = dict([(i, pd.DataFrame()) for i in users])\n",
    "for u in tqdm(list(users)):\n",
    "            ratings_by_user[u] = ratings.loc[ratings['userId'] == u].sort_values(by='timestamp').reset_index(drop=True)"
   ]
  },
  {
   "cell_type": "code",
   "execution_count": 13,
   "metadata": {},
   "outputs": [],
   "source": [
    "pickle.dump(ratings_by_user, open(\"../data/ratings_by_user.p\", \"wb\"))"
   ]
  },
  {
   "cell_type": "markdown",
   "metadata": {},
   "source": [
    "### Data Loader\n",
    "\n",
    "That is the part you need to pay at least some attention to. Note: it is highly Pytorch specific.\n",
    "Also I reccomend you to restart the notebook at that point.\n",
    "\n",
    "The main idea in our dataloader being that we have some moving frame capturing news:\n",
    "todo: add illustration"
   ]
  },
  {
   "cell_type": "code",
   "execution_count": 1,
   "metadata": {},
   "outputs": [],
   "source": [
    "import pandas as pd\n",
    "from torch.utils.data import Dataset, DataLoader\n",
    "from tqdm import tqdm_notebook as tqdm\n",
    "from collections import deque\n",
    "import pickle"
   ]
  },
  {
   "cell_type": "code",
   "execution_count": 2,
   "metadata": {},
   "outputs": [],
   "source": [
    "# File loading\n",
    "with open( \"../data/id_to_index.p\", \"rb\") as f:\n",
    "    id_to_index = pickle.load(f)\n",
    "    \n",
    "with open( \"../data/ratings_by_user.p\", \"rb\") as f:\n",
    "    ratings_by_user = pickle.load(f)\n",
    "movies = pd.read_csv('../data/movies.csv')"
   ]
  },
  {
   "cell_type": "code",
   "execution_count": 23,
   "metadata": {},
   "outputs": [
    {
     "data": {
      "text/plain": [
       "<matplotlib.axes._subplots.AxesSubplot at 0x224a5306e10>"
      ]
     },
     "execution_count": 23,
     "metadata": {},
     "output_type": "execute_result"
    },
    {
     "data": {
      "image/png": "[encoded data removed]",
      "text/plain": [
       "<Figure size 432x288 with 1 Axes>"
      ]
     },
     "metadata": {
      "needs_background": "light"
     },
     "output_type": "display_data"
    }
   ],
   "source": [
    "pd.Series(list(sorted([ len(ratings_by_user[i]) for i in list(ratings_by_user.keys())]))).hist()"
   ]
  },
  {
   "cell_type": "code",
   "execution_count": 12,
   "metadata": {},
   "outputs": [],
   "source": [
    "class ML20mDataset(Dataset):\n",
    "    def __init__(self, files, frame_size, id_to_index):\n",
    "        self.movies, self.ratings = files\n",
    "        self.id_to_index = id_to_index\n",
    "        self.users = list(self.ratings.keys())\n",
    "        self.user = self.users[0]\n",
    "        self.frame_size = frame_size\n",
    "        \n",
    "    def set_user(self, u):\n",
    "        # assert u in self.users\n",
    "        # I commented it out because it seemed to be slowing stuff down\n",
    "        self.user = u\n",
    "        \n",
    "    def __len__(self):\n",
    "        return len(self.ratings[self.user]) - self.frame_size + 1\n",
    "    \n",
    "    def __getitem__(self, idx):\n",
    "        return self.ratings[self.user][idx:self.frame_size+idx]\n",
    "\n",
    "    "
   ]
  },
  {
   "cell_type": "code",
   "execution_count": null,
   "metadata": {},
   "outputs": [
    {
     "data": {
      "application/vnd.jupyter.widget-view+json": {
       "model_id": "26cb84618aa947f8adcf04d1f1788c11",
       "version_major": 2,
       "version_minor": 0
      },
      "text/plain": [
       "HBox(children=(IntProgress(value=0, max=138493), HTML(value='')))"
      ]
     },
     "metadata": {},
     "output_type": "display_data"
    }
   ],
   "source": [
    "for u in tqdm(dataset.users):\n",
    "    dataset.set_user(u)\n",
    "    for b_n in range(len(dataset)):\n",
    "        b = dataset[b_n] "
   ]
  },
  {
   "cell_type": "code",
   "execution_count": 5,
   "metadata": {},
   "outputs": [],
   "source": [
    "stacked = torch.stack(infos)"
   ]
  },
  {
   "cell_type": "code",
   "execution_count": 8,
   "metadata": {},
   "outputs": [
    {
     "data": {
      "text/plain": [
       "torch.Size([27278, 768])"
      ]
     },
     "execution_count": 8,
     "metadata": {},
     "output_type": "execute_result"
    }
   ],
   "source": [
    "stacked = torch.squeeze(stacked)\n",
    "stacked.size()"
   ]
  },
  {
   "cell_type": "code",
   "execution_count": 9,
   "metadata": {},
   "outputs": [],
   "source": [
    "torch.save(stacked, '../data/movie_emb.pt')"
   ]
  },
  {
   "cell_type": "code",
   "execution_count": null,
   "metadata": {},
   "outputs": [],
   "source": []
  }
 ],
 "metadata": {
  "kernelspec": {
   "display_name": "Python 3",
   "language": "python",
   "name": "python3"
  },
  "language_info": {
   "codemirror_mode": {
    "name": "ipython",
    "version": 3
   },
   "file_extension": ".py",
   "mimetype": "text/x-python",
   "name": "python",
   "nbconvert_exporter": "python",
   "pygments_lexer": "ipython3",
   "version": "3.7.0"
  }
 },
 "nbformat": 4,
 "nbformat_minor": 2
}
