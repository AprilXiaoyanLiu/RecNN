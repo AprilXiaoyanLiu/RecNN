{
 "cells": [
  {
   "cell_type": "markdown",
   "metadata": {},
   "source": [
    "## Data preprocessing\n",
    "\n",
    "Let's start off by preprocessing our data.\n",
    "Just run the code, it will download the dataset and do all the things for you.\n",
    "We have a table of movies which includes genres and tags. Tags stored as another table that has relevances associated with each tag. The main idea I imply here is that I sort tag by -relevance (in descending order) and put them in string. Then I split the genres (which are listed separated by |) and prepend them to the start of the line.\n",
    "Just run the code and see the final table, nothing profusely educating here.\n",
    "\n",
    "**Note from the future:** I tried using pandas with pytorch data-loaders and it worked super slow and it doesn't stand a chance in the production-grade applications. It took seconds to form batches, even though I used dictionaries for interaction history with userIds as the keys. The movie themselves were stored in the torch.tensor that has was saved and loaded constantly. It didn't work at all and was literally crawling. Let's try a different approach using HDF5, hoping that it will work out.\n",
    "\n",
    "**ATTENTION:** This is kind of computationally expensive so I you do not have a GPU, you can download the dataset from my [google drive](https://drive.google.com/open?id=1mzqM33HnFBYXnjBevzade6rd0sPG60y8)"
   ]
  },
  {
   "cell_type": "markdown",
   "metadata": {},
   "source": [
    "The code below will download the dataset and unpack it."
   ]
  },
  {
   "cell_type": "code",
   "execution_count": 31,
   "metadata": {},
   "outputs": [
    {
     "name": "stdout",
     "output_type": "stream",
     "text": [
      "reading csv: ['genome-scores.csv', 'genome-tags.csv', 'links.csv', 'movies.csv', 'ratings.csv', 'README.txt', 'tags.csv']\n"
     ]
    },
    {
     "data": {
      "application/vnd.jupyter.widget-view+json": {
       "model_id": "e48b9104681a48c7a29fd4fcec236d30",
       "version_major": 2,
       "version_minor": 0
      },
      "text/plain": [
       "HBox(children=(IntProgress(value=0, max=7), HTML(value='')))"
      ]
     },
     "metadata": {},
     "output_type": "display_data"
    },
    {
     "name": "stdout",
     "output_type": "stream",
     "text": [
      "\n"
     ]
    }
   ],
   "source": [
    "import zipfile\n",
    "import wget\n",
    "import os\n",
    "import pandas as pd\n",
    "from tqdm import tqdm_notebook as tqdm\n",
    "\n",
    "files = dict()\n",
    "url = 'http://files.grouplens.org/datasets/movielens/ml-20m.zip'  \n",
    "path = os.path.abspath(os.path.join(os.getcwd(), '..', 'data'))\n",
    "zippath = os.path.join(path, 'ml-20m.zip')\n",
    "if not os.path.isfile(zippath):\n",
    "    wget.download(url, path)\n",
    "    zip_ref = zipfile.ZipFile(zippath, 'r')\n",
    "    zip_ref.extractall(path)\n",
    "    zip_ref.close()\n",
    "path = os.path.join(path, 'ml-20m')\n",
    "print('reading csv:', os.listdir(path))\n",
    "for file in tqdm(os.listdir(path)):\n",
    "        if file.endswith('.csv') and file.split('.') != 'ratings':\n",
    "            files[file.split('.')[0]] = pd.read_csv(os.path.join(path, file))"
   ]
  },
  {
   "cell_type": "code",
   "execution_count": 39,
   "metadata": {},
   "outputs": [],
   "source": [
    "def reverse_respect_sort(X, Y):\n",
    "    return list(reversed([x for _, x in sorted(zip(Y,X), key=lambda pair: pair[0])]))\n",
    "\n",
    "def get_tags(t, max_tags):\n",
    "    tags = dict()\n",
    "    tags['relevance'] = t['relevance'].tolist()\n",
    "    tags['tag'] = t['tag'].tolist()\n",
    "\n",
    "    tags = reverse_respect_sort(tags['tag'], tags['relevance'])[:max_tags]\n",
    "    tags = ' '.join(tags)\n",
    "    return tags\n",
    "\n",
    "def data_processor(files):\n",
    "    files['user-tags'] = files['tags']\n",
    "    files['tags'] = files['genome-scores'].merge(files['genome-tags'], left_on='tagId',\n",
    "                                                   right_on='tagId', how='inner')\n",
    "    del files['genome-scores']\n",
    "    del files['genome-tags']\n",
    "    del files['links']\n",
    "    files['tags'] = files['tags'].sort_values(by=['movieId', 'tagId']).reset_index(drop=True)\n",
    "    # files['ratings'] = files['ratings'].sort_values(by=['userId', 'timestamp']).reset_index(drop=True)\n",
    "    \n",
    "    titles = files['movies']['title'].map(lambda s: s[:s.find(\"(\")])\n",
    "    \n",
    "    del files['movies']['title']\n",
    "    files['movies']['title'] = titles\n",
    "    return files\n",
    "\n",
    "files = data_processor(files)"
   ]
  },
  {
   "cell_type": "markdown",
   "metadata": {},
   "source": [
    "## Word Encoding\n",
    "It's time for us to encode the words. I am going to use Google's BERT for this. \n",
    "Here is a quick explanation of what I am doing:\n",
    "First I collect all the tags scattered around the tags.csv file, then I merge them with genres and titles into one big line which I fit into Google's BERT. May be a bit overkill, but I think it's worth the cost. By the way, if you don't have a GPU, the dataset is available to download on my [google drive](https://drive.google.com/open?id=1mzqM33HnFBYXnjBevzade6rd0sPG60y8). The end result is n_films x 768 matrix, which I store as a pytorch tensor (without HDF5).\n",
    "\n",
    "![](../res/textdatatransformer.png )\n",
    "\n",
    "Huge thanks to [this gist](https://gist.github.com/Tushar-N/dfca335e370a2bc3bc79876e6270099e)"
   ]
  },
  {
   "cell_type": "code",
   "execution_count": 3,
   "metadata": {},
   "outputs": [
    {
     "name": "stdout",
     "output_type": "stream",
     "text": [
      "Better speed can be achieved with apex installed from https://www.github.com/nvidia/apex.\n"
     ]
    }
   ],
   "source": [
    "from pytorch_pretrained_bert import BertTokenizer\n",
    "tokenizer = BertTokenizer.from_pretrained('bert-base-uncased')"
   ]
  },
  {
   "cell_type": "code",
   "execution_count": 4,
   "metadata": {},
   "outputs": [
    {
     "data": {
      "application/vnd.jupyter.widget-view+json": {
       "model_id": "1a1c478e29e343c5aef015b8d86665d4",
       "version_major": 2,
       "version_minor": 0
      },
      "text/plain": [
       "HBox(children=(IntProgress(value=0, max=27278), HTML(value='')))"
      ]
     },
     "metadata": {},
     "output_type": "display_data"
    },
    {
     "name": "stdout",
     "output_type": "stream",
     "text": [
      "\n"
     ]
    }
   ],
   "source": [
    "import torch\n",
    "from torch.nn.utils.rnn import pack_padded_sequence, pad_packed_sequence\n",
    "from pytorch_pretrained_bert import BertTokenizer, BertModel\n",
    "cuda = torch.device('cuda')\n",
    "bert = BertModel.from_pretrained('bert-base-uncased').to(cuda)\n",
    "bert.eval()\n",
    "\n",
    "all_movies_id = files['movies']['movieId'].tolist()\n",
    "max_tags = 50\n",
    "\n",
    "data_films = pd.DataFrame()\n",
    "\n",
    "infos = []\n",
    "mov_batch = []\n",
    "batch_size = 16\n",
    "\n",
    "for m in tqdm(all_movies_id):\n",
    "    movie = files['movies'].loc[all_movies_id.index(m)]\n",
    "    \n",
    "    tags = files['tags'].loc[files['tags']['movieId'] == m]\n",
    "    tags = get_tags(tags, max_tags)\n",
    "    genres = ' '.join(movie['genres'].split('|'))\n",
    "\n",
    "    total = dict()\n",
    "    id = movie['movieId']\n",
    "    info = movie['title'] + ' ' + genres + ' ' + tags\n",
    "    info = tokenizer.tokenize(info)\n",
    "    info = tokenizer.convert_tokens_to_ids(info)\n",
    "    info = torch.tensor(info).to(cuda)\n",
    "    mov_batch.append(info)\n",
    "    \n",
    "    if len(mov_batch) >= batch_size:\n",
    "        seq_lengths = torch.tensor([len(seq) for seq in mov_batch]).long().cuda()\n",
    "        seq_tensor = torch.zeros((len(mov_batch), seq_lengths.max())).long().cuda()\n",
    "        \n",
    "        for idx, (seq, seqlen) in enumerate(zip(mov_batch, seq_lengths)):\n",
    "            seq_tensor[idx, :seqlen] = torch.tensor(seq).long().cuda()\n",
    "            \n",
    "        _, output = bert(seq_tensor)\n",
    "\n",
    "        output = output.detach().cpu()\n",
    "        infos.append(output)\n",
    "        mov_batch = []"
   ]
  },
  {
   "cell_type": "code",
   "execution_count": 5,
   "metadata": {},
   "outputs": [],
   "source": [
    "seq_lengths = torch.tensor([len(seq) for seq in mov_batch]).long().cuda()\n",
    "seq_tensor = torch.zeros((len(mov_batch), seq_lengths.max())).long().cuda()\n",
    "\n",
    "for idx, (seq, seqlen) in enumerate(zip(mov_batch, seq_lengths)):\n",
    "    seq_tensor[idx, :seqlen] = torch.tensor(seq).long().cuda()\n",
    "            \n",
    "_, output = bert(seq_tensor)\n",
    "\n",
    "output = output.detach().cpu()\n",
    "infos.append(output)"
   ]
  },
  {
   "cell_type": "code",
   "execution_count": 22,
   "metadata": {},
   "outputs": [],
   "source": [
    "stacked = torch.cat(infos)"
   ]
  },
  {
   "cell_type": "code",
   "execution_count": 23,
   "metadata": {},
   "outputs": [
    {
     "data": {
      "text/plain": [
       "torch.Size([27278, 768])"
      ]
     },
     "execution_count": 23,
     "metadata": {},
     "output_type": "execute_result"
    }
   ],
   "source": [
    "stacked.size()"
   ]
  },
  {
   "cell_type": "code",
   "execution_count": 24,
   "metadata": {},
   "outputs": [],
   "source": [
    "torch.save(stacked, '../data/bert_emb.pt')"
   ]
  },
  {
   "cell_type": "markdown",
   "metadata": {},
   "source": [
    "## AutoEncoders for Unsupervised Feature Learning\n",
    "\n",
    "**At this point, I would highly recommend you to restart your kernel because cuda or ram is flooded with used memory.**\n",
    "\n",
    "We kinda have movie embeddings as is right now and can move on even further, but these embeddings are not quite complete. First of all, they are big in size (being 768 features), let's shrink it down to say 32. Another thing to be taken into consideration is that they are quietly vague in that form and the difference must be extensively pointed out. Note: I am not using VAE (variational stuff) because I don't care if it overfits for the dataset is going to ba the same all the time. Principal component analysis (PCA) is primarily used for generating stuff and cool sliders and dosen't quiet apply to our task."
   ]
  },
  {
   "cell_type": "code",
   "execution_count": 1,
   "metadata": {},
   "outputs": [],
   "source": [
    "%matplotlib inline\n",
    "\n",
    "import torch\n",
    "import torch.nn as nn\n",
    "import torch.nn.functional as F\n",
    "import torch.optim as optim\n",
    "from tqdm import tqdm_notebook as tqdm\n",
    "import seaborn as sns\n",
    "\n",
    "sns.set()\n",
    "cuda = torch.device('cuda')"
   ]
  },
  {
   "cell_type": "code",
   "execution_count": 2,
   "metadata": {},
   "outputs": [],
   "source": [
    "class AutoEncoder(nn.Module):\n",
    "    def __init__(self):\n",
    "        super(AutoEncoder, self).__init__()\n",
    "        \n",
    "        self.encoder = nn.Sequential(\n",
    "            nn.Linear(768, 32),\n",
    "            nn.Tanh(),\n",
    "            #nn.Dropout(0.3)\n",
    "        )\n",
    "        \n",
    "        self.decoder = nn.Sequential(\n",
    "            nn.Linear(32, 768),\n",
    "            nn.Tanh()\n",
    "        )\n",
    "        \n",
    "    def forward(self, x):\n",
    "        x = self.encoder(x)\n",
    "        x = self.decoder(x)\n",
    "        return x"
   ]
  },
  {
   "cell_type": "code",
   "execution_count": 3,
   "metadata": {},
   "outputs": [],
   "source": [
    "data = torch.load('../data/bert_emb.pt')"
   ]
  },
  {
   "cell_type": "code",
   "execution_count": 12,
   "metadata": {},
   "outputs": [
    {
     "data": {
      "application/vnd.jupyter.widget-view+json": {
       "model_id": "ebba091b9ebf420b9dbaa14b58921e1d",
       "version_major": 2,
       "version_minor": 0
      },
      "text/plain": [
       "HBox(children=(IntProgress(value=0, max=20), HTML(value='')))"
      ]
     },
     "metadata": {},
     "output_type": "display_data"
    },
    {
     "name": "stdout",
     "output_type": "stream",
     "text": [
      "\n"
     ]
    }
   ],
   "source": [
    "n_epochs = 20\n",
    "batch_size = 128\n",
    "\n",
    "model = AutoEncoder().to(cuda)\n",
    "criterion = nn.MSELoss()\n",
    "optimizer = optim.Adam(model.parameters(), lr=10e-4)\n",
    "run_loss = []\n",
    "\n",
    "for epoch in tqdm(range(n_epochs)):\n",
    "    for batch in data.split(batch_size):\n",
    "        optimizer.zero_grad()\n",
    "        batch = batch.to(cuda)\n",
    "        output = model(batch).float()\n",
    "        loss = criterion(output, batch)\n",
    "        loss.backward()\n",
    "        optimizer.step()\n",
    "        run_loss.append(loss.item())"
   ]
  },
  {
   "cell_type": "code",
   "execution_count": 13,
   "metadata": {},
   "outputs": [
    {
     "data": {
      "text/plain": [
       "<matplotlib.axes._subplots.AxesSubplot at 0x2a4ed3f6b70>"
      ]
     },
     "execution_count": 13,
     "metadata": {},
     "output_type": "execute_result"
    },
    {
     "data": {
      "image/png": "[encoded data removed]",
      "text/plain": [
       "<Figure size 432x288 with 1 Axes>"
      ]
     },
     "metadata": {
      "needs_background": "light"
     },
     "output_type": "display_data"
    }
   ],
   "source": [
    "sns.lineplot(x=range(len(run_loss)), y=run_loss)"
   ]
  },
  {
   "cell_type": "code",
   "execution_count": 14,
   "metadata": {},
   "outputs": [],
   "source": [
    "encoded = []\n",
    "model.eval()\n",
    "\n",
    "for batch in data.split(batch_size):\n",
    "    batch = batch.to(cuda)\n",
    "    encoded.append(model.encoder(batch))"
   ]
  },
  {
   "cell_type": "code",
   "execution_count": 15,
   "metadata": {},
   "outputs": [],
   "source": [
    "encoded = torch.cat(encoded)"
   ]
  },
  {
   "cell_type": "code",
   "execution_count": 26,
   "metadata": {},
   "outputs": [
    {
     "data": {
      "text/plain": [
       "torch.Size([27278, 32])"
      ]
     },
     "execution_count": 26,
     "metadata": {},
     "output_type": "execute_result"
    }
   ],
   "source": [
    "encoded.size()"
   ]
  },
  {
   "cell_type": "code",
   "execution_count": 27,
   "metadata": {},
   "outputs": [],
   "source": [
    "torch.save(encoded.detach(), '../data/enc_emb.pt')"
   ]
  },
  {
   "cell_type": "markdown",
   "metadata": {},
   "source": [
    "# User Ratings with HDF5 \n",
    "\n",
    "**Then again, restart the kernel**\n",
    "\n",
    "Make sure you have runned the **Data preprocessing** section to load the data again.\n",
    "\n",
    "## Ratings by user"
   ]
  },
  {
   "cell_type": "code",
   "execution_count": 4,
   "metadata": {},
   "outputs": [],
   "source": [
    "import pandas as pd\n",
    "from tqdm import tqdm_notebook as tqdm\n",
    "import h5py\n",
    "import numpy as np\n",
    "import multiprocessing as mp"
   ]
  },
  {
   "cell_type": "markdown",
   "metadata": {},
   "source": [
    "### Multithreaded"
   ]
  },
  {
   "cell_type": "code",
   "execution_count": 2,
   "metadata": {},
   "outputs": [
    {
     "data": {
      "application/vnd.jupyter.widget-view+json": {
       "model_id": "7a22c86883274317807814b33aebadc3",
       "version_major": 2,
       "version_minor": 0
      },
      "text/plain": [
       "HBox(children=(IntProgress(value=0, max=138493), HTML(value='')))"
      ]
     },
     "metadata": {},
     "output_type": "display_data"
    }
   ],
   "source": [
    "ratings = pd.read_csv('../data/ml-20m/ratings.csv')\n",
    "users = np.array(list(set(ratings['userId'])))\n",
    "users_by_process = np.array_split(users, 4)\n",
    "pbar = tqdm(total=len(users))\n",
    "\n",
    "def process(i, users):\n",
    "    ratings_by_user = dict([(i, pd.DataFrame()) for i in users])\n",
    "    for u in tqdm(list(users)):\n",
    "            ratings_by_user[u] = ratings.loc[ratings['userId'] == u].sort_values(by='timestamp').reset_index(drop=True)\n",
    "    pbar.update(1)\n",
    "    return ratings_by_user\n",
    "\n",
    "pool = mp.Pool(processes=4)\n",
    "results = [pool.apply(process, args=(i, users_by_process[i])) for i in range(4)]\n",
    "ratings_by_user = pd.DataFrame()\n",
    "for i in results:\n",
    "    ratings_by_user = r.append(i)"
   ]
  },
  {
   "cell_type": "markdown",
   "metadata": {},
   "source": [
    "### Singlethreaded"
   ]
  },
  {
   "cell_type": "code",
   "execution_count": null,
   "metadata": {},
   "outputs": [],
   "source": [
    "ratings = pd.read_csv('../data/ml-20m/ratings.csv')\n",
    "users = np.array(list(set(ratings['userId'])))\n",
    "ratings_by_user = dict([(i, pd.DataFrame()) for i in users])\n",
    "for u in tqdm(list(users)):\n",
    "        ratings_by_user[u] = ratings.loc[ratings['userId'] == u].sort_values(by='timestamp').reset_index(drop=True)"
   ]
  },
  {
   "cell_type": "markdown",
   "metadata": {},
   "source": [
    "### Reward Function\n",
    "\n",
    "I know, I should have done it beforehand for an idiot I am. I tried to use rewards as is, but it didn't work out. So we must introduce some more distinguishable reward function. Let's assume that a healthy middle of a film's rating is somewhat 2,5. If user scored it 5/5 we have to beleive he really enjoyed it, rewarding the agent with a big positive score. On contrary, if he had scored it 0.5/5, we reward it with a big negative one."
   ]
  },
  {
   "cell_type": "code",
   "execution_count": null,
   "metadata": {},
   "outputs": [],
   "source": [
    "%matplotlib inline\n",
    "ratings['rating'].hist()"
   ]
  },
  {
   "cell_type": "code",
   "execution_count": 2,
   "metadata": {},
   "outputs": [
    {
     "name": "stdout",
     "output_type": "stream",
     "text": [
      "[0.  0.5 1.  1.5 2.  2.5 3.  3.5 4.  4.5 5. ]\n",
      "[-5. -4. -3. -2. -1.  0.  1.  2.  3.  4.  5.]\n"
     ]
    },
    {
     "data": {
      "image/png": "[encoded data removed]",
      "text/plain": [
       "<Figure size 432x288 with 1 Axes>"
      ]
     },
     "metadata": {},
     "output_type": "display_data"
    }
   ],
   "source": [
    "%matplotlib inline\n",
    "\n",
    "import seaborn as sns\n",
    "sns.set()\n",
    "\n",
    "x = np.linspace(0, 5, num=11)\n",
    "y = np.vectorize(lambda i: 2*(i-2.5))(x)\n",
    "\n",
    "sns.lineplot(x=x, y=y)\n",
    "print(x)\n",
    "print(y)"
   ]
  },
  {
   "cell_type": "markdown",
   "metadata": {},
   "source": [
    "### HDF5 you've been waiting for"
   ]
  },
  {
   "cell_type": "code",
   "execution_count": 5,
   "metadata": {},
   "outputs": [
    {
     "data": {
      "application/vnd.jupyter.widget-view+json": {
       "model_id": "8c70a6af6aee4b40968aac63a83900f7",
       "version_major": 2,
       "version_minor": 0
      },
      "text/plain": [
       "HBox(children=(IntProgress(value=0, max=138493), HTML(value='')))"
      ]
     },
     "metadata": {},
     "output_type": "display_data"
    },
    {
     "name": "stdout",
     "output_type": "stream",
     "text": [
      "\n"
     ]
    }
   ],
   "source": [
    "import pickle\n",
    "\n",
    "ratings_by_user = pickle.load(open('../data/rbu.pkl', 'rb'))\n",
    "\n",
    "for user in tqdm(ratings_by_user.keys()):\n",
    "    ratings_by_user[user] = ratings_by_user[user].drop(['timestamp', 'userId'], axis=1)\n",
    "    ratings_by_user[user]['rating'] = ratings_by_user[user]['rating'].apply(lambda i: 2*(i-2.5))"
   ]
  },
  {
   "cell_type": "code",
   "execution_count": 7,
   "metadata": {},
   "outputs": [
    {
     "data": {
      "application/vnd.jupyter.widget-view+json": {
       "model_id": "a72a8ed97ad04e678f6a067e39daed22",
       "version_major": 2,
       "version_minor": 0
      },
      "text/plain": [
       "HBox(children=(IntProgress(value=0, max=138493), HTML(value='')))"
      ]
     },
     "metadata": {},
     "output_type": "display_data"
    },
    {
     "name": "stdout",
     "output_type": "stream",
     "text": [
      "\n"
     ]
    }
   ],
   "source": [
    "for user in tqdm(list(ratings_by_user.keys())):\n",
    "    ratings_by_user[user]['rating'] = ratings_by_user[user]['rating'].apply(lambda i: 2*(i-2.5))\n",
    "    ratings_by_user[user] = ratings_by_user[user].values"
   ]
  },
  {
   "cell_type": "code",
   "execution_count": 9,
   "metadata": {},
   "outputs": [],
   "source": [
    "pickle.dump(ratings_by_user, open('../data/rbu.pkl', 'wb'))"
   ]
  },
  {
   "cell_type": "code",
   "execution_count": 8,
   "metadata": {},
   "outputs": [
    {
     "data": {
      "text/plain": [
       "array([[ 9.2400e+02, -1.0000e+00],\n",
       "       [ 9.1900e+02, -1.0000e+00],\n",
       "       [ 2.6830e+03, -1.0000e+00],\n",
       "       [ 1.5840e+03, -1.0000e+00],\n",
       "       [ 1.0790e+03,  1.0000e+00],\n",
       "       [ 6.5300e+02, -3.0000e+00],\n",
       "       [ 2.9590e+03,  1.0000e+00],\n",
       "       [ 3.3700e+02, -1.0000e+00],\n",
       "       [ 1.3040e+03, -3.0000e+00],\n",
       "       [ 3.9960e+03,  1.0000e+00],\n",
       "       [ 1.5100e+02,  1.0000e+00],\n",
       "       [ 1.1200e+02, -1.0000e+00],\n",
       "       [ 1.3740e+03,  1.0000e+00],\n",
       "       [ 1.2460e+03, -1.0000e+00],\n",
       "       [ 1.3700e+03, -3.0000e+00],\n",
       "       [ 2.2910e+03,  1.0000e+00],\n",
       "       [ 4.3060e+03,  1.0000e+00],\n",
       "       [ 1.2140e+03,  1.0000e+00],\n",
       "       [ 1.2780e+03,  1.0000e+00],\n",
       "       [ 1.2580e+03,  1.0000e+00],\n",
       "       [ 1.2190e+03,  1.0000e+00],\n",
       "       [ 6.2420e+03, -1.0000e+00],\n",
       "       [ 4.7200e+03, -1.0000e+00],\n",
       "       [ 2.7160e+03, -1.0000e+00],\n",
       "       [ 2.6480e+03, -1.0000e+00],\n",
       "       [ 8.5070e+03,  5.0000e+00],\n",
       "       [ 1.9970e+03, -1.0000e+00],\n",
       "       [ 6.5020e+03, -1.0000e+00],\n",
       "       [ 1.3480e+03, -1.0000e+00],\n",
       "       [ 1.3210e+03,  1.0000e+00],\n",
       "       [ 6.7550e+03, -1.0000e+00],\n",
       "       [ 2.2880e+03,  1.0000e+00],\n",
       "       [ 1.2150e+03,  1.0000e+00],\n",
       "       [ 1.9940e+03, -1.0000e+00],\n",
       "       [ 2.1180e+03,  1.0000e+00],\n",
       "       [ 7.0010e+03, -1.0000e+00],\n",
       "       [ 4.1050e+03, -1.0000e+00],\n",
       "       [ 5.6790e+03, -1.0000e+00],\n",
       "       [ 1.2610e+03, -1.0000e+00],\n",
       "       [ 5.1460e+03, -1.0000e+00],\n",
       "       [ 3.4760e+03, -1.0000e+00],\n",
       "       [ 3.0810e+03,  1.0000e+00],\n",
       "       [ 2.6640e+03, -1.0000e+00],\n",
       "       [ 1.3500e+03, -1.0000e+00],\n",
       "       [ 7.3870e+03, -1.0000e+00],\n",
       "       [ 3.9320e+03, -3.0000e+00],\n",
       "       [ 4.2260e+03, -1.0000e+00],\n",
       "       [ 3.2650e+03, -1.0000e+00],\n",
       "       [ 4.8780e+03, -1.0000e+00],\n",
       "       [ 3.0300e+03, -3.0000e+00],\n",
       "       [ 1.2000e+03,  1.0000e+00],\n",
       "       [ 3.0000e+03, -1.0000e+00],\n",
       "       [ 7.4820e+03, -3.0000e+00],\n",
       "       [ 5.0000e+01, -1.0000e+00],\n",
       "       [ 5.4100e+02,  1.0000e+00],\n",
       "       [ 1.1360e+03, -1.0000e+00],\n",
       "       [ 5.9520e+03,  5.0000e+00],\n",
       "       [ 1.1980e+03,  3.0000e+00],\n",
       "       [ 7.1530e+03,  5.0000e+00],\n",
       "       [ 1.2220e+03, -1.0000e+00],\n",
       "       [ 1.2010e+03, -3.0000e+00],\n",
       "       [ 5.9300e+02, -1.0000e+00],\n",
       "       [ 1.0890e+03, -1.0000e+00],\n",
       "       [ 2.9000e+01, -1.0000e+00],\n",
       "       [ 4.9930e+03,  5.0000e+00],\n",
       "       [ 6.8070e+03, -1.0000e+00],\n",
       "       [ 1.1930e+03, -1.0000e+00],\n",
       "       [ 2.9300e+02,  1.0000e+00],\n",
       "       [ 4.7000e+01, -1.0000e+00],\n",
       "       [ 1.2620e+03, -1.0000e+00],\n",
       "       [ 1.1960e+03,  3.0000e+00],\n",
       "       [ 2.6920e+03, -1.0000e+00],\n",
       "       [ 2.7610e+03, -3.0000e+00],\n",
       "       [ 2.9600e+02,  1.0000e+00],\n",
       "       [ 7.4380e+03,  1.0000e+00],\n",
       "       [ 8.6900e+03, -1.0000e+00],\n",
       "       [ 3.1800e+02,  1.0000e+00],\n",
       "       [ 1.2170e+03, -1.0000e+00],\n",
       "       [ 1.2080e+03, -1.0000e+00],\n",
       "       [ 3.2000e+01, -1.0000e+00],\n",
       "       [ 2.6000e+02,  1.0000e+00],\n",
       "       [ 1.3870e+03,  1.0000e+00],\n",
       "       [ 3.4990e+03,  1.0000e+00],\n",
       "       [ 4.1280e+03,  1.0000e+00],\n",
       "       [ 2.5300e+02,  1.0000e+00],\n",
       "       [ 4.7540e+03,  1.0000e+00],\n",
       "       [ 1.3330e+03,  1.0000e+00],\n",
       "       [ 2.6440e+03, -1.0000e+00],\n",
       "       [ 2.7620e+03,  1.0000e+00],\n",
       "       [ 1.2660e+03,  1.0000e+00],\n",
       "       [ 1.0800e+03, -1.0000e+00],\n",
       "       [ 1.2490e+03,  1.0000e+00],\n",
       "       [ 1.2400e+03,  1.0000e+00],\n",
       "       [ 4.0110e+03,  1.0000e+00],\n",
       "       [ 2.8040e+03, -1.0000e+00],\n",
       "       [ 1.3580e+03,  1.0000e+00],\n",
       "       [ 2.9440e+03,  1.0000e+00],\n",
       "       [ 1.2590e+03,  1.0000e+00],\n",
       "       [ 2.5420e+03,  1.0000e+00],\n",
       "       [ 1.0900e+03,  1.0000e+00],\n",
       "       [ 4.0270e+03,  1.0000e+00],\n",
       "       [ 2.9180e+03, -1.0000e+00],\n",
       "       [ 1.0360e+03,  1.0000e+00],\n",
       "       [ 2.1940e+03, -1.0000e+00],\n",
       "       [ 8.6360e+03,  3.0000e+00],\n",
       "       [ 6.3330e+03,  1.0000e+00],\n",
       "       [ 6.5390e+03,  1.0000e+00],\n",
       "       [ 1.2910e+03, -1.0000e+00],\n",
       "       [ 5.8900e+02, -1.0000e+00],\n",
       "       [ 3.0370e+03, -1.0000e+00],\n",
       "       [ 1.2430e+03, -3.0000e+00],\n",
       "       [ 2.2300e+02,  1.0000e+00],\n",
       "       [ 2.9470e+03, -1.0000e+00],\n",
       "       [ 8.9610e+03,  1.0000e+00],\n",
       "       [ 8.3680e+03,  1.0000e+00],\n",
       "       [ 2.8720e+03,  1.0000e+00],\n",
       "       [ 1.0970e+03,  1.0000e+00],\n",
       "       [ 2.1400e+03,  1.0000e+00],\n",
       "       [ 6.0930e+03,  1.0000e+00],\n",
       "       [ 5.8160e+03,  1.0000e+00],\n",
       "       [ 4.8960e+03,  1.0000e+00],\n",
       "       [ 3.4790e+03,  1.0000e+00],\n",
       "       [ 1.9670e+03,  1.0000e+00],\n",
       "       [ 3.1696e+04,  1.0000e+00],\n",
       "       [ 2.1930e+03,  1.0000e+00],\n",
       "       [ 8.4820e+03, -1.0000e+00],\n",
       "       [ 6.7740e+03,  1.0000e+00],\n",
       "       [ 2.1380e+03,  1.0000e+00],\n",
       "       [ 3.1530e+03,  1.0000e+00],\n",
       "       [ 7.7570e+03,  1.0000e+00],\n",
       "       [ 4.4670e+03,  1.0000e+00],\n",
       "       [ 2.9680e+03,  1.0000e+00],\n",
       "       [ 7.0450e+03, -1.0000e+00],\n",
       "       [ 2.1740e+03,  1.0000e+00],\n",
       "       [ 5.0260e+03,  1.0000e+00],\n",
       "       [ 5.7970e+03,  1.0000e+00],\n",
       "       [ 4.5710e+03,  1.0000e+00],\n",
       "       [ 2.1730e+03,  1.0000e+00],\n",
       "       [ 5.0390e+03,  1.0000e+00],\n",
       "       [ 5.5400e+03,  1.0000e+00],\n",
       "       [ 7.1640e+03, -1.0000e+00],\n",
       "       [ 2.0210e+03,  1.0000e+00],\n",
       "       [ 7.0460e+03,  1.0000e+00],\n",
       "       [ 2.1430e+03,  1.0000e+00],\n",
       "       [ 2.1000e+03,  1.0000e+00],\n",
       "       [ 7.2470e+03, -1.0000e+00],\n",
       "       [ 4.9110e+03,  1.0000e+00],\n",
       "       [ 4.4460e+03, -1.0000e+00],\n",
       "       [ 3.6700e+02, -1.0000e+00],\n",
       "       [ 6.7540e+03,  1.0000e+00],\n",
       "       [ 2.6280e+03,  1.0000e+00],\n",
       "       [ 5.8980e+03, -1.0000e+00],\n",
       "       [ 4.9410e+03, -1.0000e+00],\n",
       "       [ 1.0090e+03, -1.0000e+00],\n",
       "       [ 3.4890e+03,  1.0000e+00],\n",
       "       [ 2.0000e+00, -1.0000e+00],\n",
       "       [ 1.8480e+03, -1.0000e+00],\n",
       "       [ 7.3890e+03,  1.0000e+00],\n",
       "       [ 4.9800e+03, -1.0000e+00],\n",
       "       [ 6.8340e+03, -1.0000e+00],\n",
       "       [ 4.9150e+03, -3.0000e+00],\n",
       "       [ 5.0400e+03, -3.0000e+00],\n",
       "       [ 3.4380e+03, -1.0000e+00],\n",
       "       [ 1.9200e+03, -1.0000e+00],\n",
       "       [ 5.1710e+03,  1.0000e+00],\n",
       "       [ 7.4540e+03,  1.0000e+00],\n",
       "       [ 2.2530e+03, -1.0000e+00],\n",
       "       [ 6.8880e+03, -3.0000e+00],\n",
       "       [ 3.8890e+03,  1.0000e+00],\n",
       "       [ 1.5250e+03, -3.0000e+00],\n",
       "       [ 5.9990e+03, -1.0000e+00],\n",
       "       [ 7.4490e+03, -1.0000e+00],\n",
       "       [ 4.1330e+03, -3.0000e+00],\n",
       "       [ 3.9970e+03, -1.0000e+00],\n",
       "       [ 1.7500e+03, -1.0000e+00]])"
      ]
     },
     "execution_count": 8,
     "metadata": {},
     "output_type": "execute_result"
    }
   ],
   "source": []
  },
  {
   "cell_type": "code",
   "execution_count": 23,
   "metadata": {},
   "outputs": [
    {
     "data": {
      "text/plain": [
       "tensor([0.0000, 0.0000, 0.0000, 0.0000, 0.0000, 0.0000, 0.0000, 1.8630, 0.0000,\n",
       "        0.0000, 0.0000, 0.0000, 0.0000, 0.0000, 0.0000, 1.3292, 0.0000, 0.0000,\n",
       "        0.0000, 0.0000, 0.0000, 0.0000, 5.9660, 1.5641, 0.0000, 0.0000, 0.0000,\n",
       "        0.0000, 0.0000, 0.0000, 1.8052, 3.6342],\n",
       "       device='cuda:0', grad_fn=<SelectBackward>)"
      ]
     },
     "execution_count": 23,
     "metadata": {},
     "output_type": "execute_result"
    }
   ],
   "source": [
    "encoded[1][0]"
   ]
  },
  {
   "cell_type": "code",
   "execution_count": null,
   "metadata": {},
   "outputs": [],
   "source": []
  }
 ],
 "metadata": {
  "kernelspec": {
   "display_name": "Python 3",
   "language": "python",
   "name": "python3"
  },
  "language_info": {
   "codemirror_mode": {
    "name": "ipython",
    "version": 3
   },
   "file_extension": ".py",
   "mimetype": "text/x-python",
   "name": "python",
   "nbconvert_exporter": "python",
   "pygments_lexer": "ipython3",
   "version": "3.7.0"
  }
 },
 "nbformat": 4,
 "nbformat_minor": 2
}
