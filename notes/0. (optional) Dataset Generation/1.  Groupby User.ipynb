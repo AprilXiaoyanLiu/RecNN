{
 "cells": [
  {
   "cell_type": "code",
   "execution_count": 1,
   "metadata": {},
   "outputs": [],
   "source": [
    "import torch\n",
    "import numpy as np\n",
    "import pandas as pd\n",
    "from tqdm.auto import tqdm\n",
    "import json\n",
    "import pickle\n",
    "\n",
    "## Settings here!\n",
    "frame_size = 10\n",
    "batch_size = 1000\n",
    "## End settings\n",
    "\n",
    "tqdm.pandas()\n",
    "\n",
    "cuda = torch.device('cpu')\n",
    "ratings = pd.read_csv('../../data/ml-20m/ratings.csv')\n",
    "movies = pickle.load(open('../../data/infos_pca128.pytorch', 'rb'))\n",
    "\n",
    "# credits: KnightofK9\n",
    "ratings[\"rating\"] = ratings[\"rating\"].apply(lambda i: 2 * (i - 2.5))\n",
    "users = ratings[[\"userId\",\"movieId\"]].groupby([\"userId\"]).size()\n",
    "users = users[users >= frame_size + 1]"
   ]
  },
  {
   "cell_type": "code",
   "execution_count": 2,
   "metadata": {},
   "outputs": [
    {
     "data": {
      "application/vnd.jupyter.widget-view+json": {
       "model_id": "af39e6a1a76345a18a619372471737b2",
       "version_major": 2,
       "version_minor": 0
      },
      "text/plain": [
       "HBox(children=(IntProgress(value=0, max=20000263), HTML(value='')))"
      ]
     },
     "metadata": {},
     "output_type": "display_data"
    },
    {
     "name": "stdout",
     "output_type": "stream",
     "text": [
      "\n"
     ]
    }
   ],
   "source": [
    "import h5py\n",
    "import numpy as np\n",
    "import torch\n",
    "import pickle\n",
    "\n",
    "# h5 = h5py.File(\"../../data/test/test.hdf5\", \"w\")\n",
    "idx = 0\n",
    "n_batch = 0\n",
    "\n",
    "optimize_ids = True\n",
    "if optimize_ids:\n",
    "    movie_ref = pickle.load(open('../../data/infos_pca128.pytorch', 'rb'))\n",
    "    movie_ref[0] = torch.zeros(128)\n",
    "    keys = list(sorted(movie_ref.keys()))\n",
    "    key_to_id = dict(zip(keys, range(len(keys))))\n",
    "    id_to_key = dict(zip(range(len(keys)), keys))\n",
    "    ratings['movieId'] = ratings['movieId'].progress_apply(key_to_id.get)"
   ]
  },
  {
   "cell_type": "code",
   "execution_count": 7,
   "metadata": {},
   "outputs": [],
   "source": [
    "ratings = ratings.sort_values(by='timestamp').set_index(\"userId\").drop(\"timestamp\", axis=1).groupby('userId')\n",
    "\n",
    "for i in movies.keys():\n",
    "    movies[i] = movies[i].to(cuda)"
   ]
  },
  {
   "cell_type": "code",
   "execution_count": 8,
   "metadata": {},
   "outputs": [],
   "source": [
    "user_dict = {}\n",
    "def app(x):\n",
    "    userid = x.index[0]\n",
    "    if userid in user_dict:\n",
    "        print(userid)\n",
    "        \n",
    "    user_dict[int(userid)] = x.copy()\n",
    "    # return x"
   ]
  },
  {
   "cell_type": "code",
   "execution_count": 9,
   "metadata": {},
   "outputs": [
    {
     "data": {
      "application/vnd.jupyter.widget-view+json": {
       "model_id": "d4da2ec4786f49469287b1b62502844a",
       "version_major": 2,
       "version_minor": 0
      },
      "text/plain": [
       "HBox(children=(IntProgress(value=0, max=138493), HTML(value='')))"
      ]
     },
     "metadata": {},
     "output_type": "display_data"
    },
    {
     "name": "stdout",
     "output_type": "stream",
     "text": [
      "1\n",
      "\n",
      "\n"
     ]
    }
   ],
   "source": [
    "ratings.progress_apply(app)\n",
    "print()"
   ]
  },
  {
   "cell_type": "code",
   "execution_count": 9,
   "metadata": {},
   "outputs": [
    {
     "data": {
      "application/vnd.jupyter.widget-view+json": {
       "model_id": "84d026670e664956889f02407516b489",
       "version_major": 2,
       "version_minor": 0
      },
      "text/plain": [
       "HBox(children=(IntProgress(value=0, max=138493), HTML(value='')))"
      ]
     },
     "metadata": {},
     "output_type": "display_data"
    },
    {
     "name": "stdout",
     "output_type": "stream",
     "text": [
      "\n"
     ]
    },
    {
     "ename": "NameError",
     "evalue": "name 'h5' is not defined",
     "output_type": "error",
     "traceback": [
      "\u001b[0;31m---------------------------------------------------------------------------\u001b[0m",
      "\u001b[0;31mNameError\u001b[0m                                 Traceback (most recent call last)",
      "\u001b[0;32m<ipython-input-9-b2a070e75b7e>\u001b[0m in \u001b[0;36m<module>\u001b[0;34m\u001b[0m\n\u001b[1;32m      1\u001b[0m \u001b[0;32mfor\u001b[0m \u001b[0muserid\u001b[0m \u001b[0;32min\u001b[0m \u001b[0mtqdm\u001b[0m\u001b[0;34m(\u001b[0m\u001b[0muser_dict\u001b[0m\u001b[0;34m.\u001b[0m\u001b[0mkeys\u001b[0m\u001b[0;34m(\u001b[0m\u001b[0;34m)\u001b[0m\u001b[0;34m)\u001b[0m\u001b[0;34m:\u001b[0m\u001b[0;34m\u001b[0m\u001b[0;34m\u001b[0m\u001b[0m\n\u001b[1;32m      2\u001b[0m     \u001b[0mx\u001b[0m \u001b[0;34m=\u001b[0m \u001b[0muser_dict\u001b[0m\u001b[0;34m[\u001b[0m\u001b[0muserid\u001b[0m\u001b[0;34m]\u001b[0m\u001b[0;34m\u001b[0m\u001b[0;34m\u001b[0m\u001b[0m\n\u001b[0;32m----> 3\u001b[0;31m     \u001b[0mgrp\u001b[0m \u001b[0;34m=\u001b[0m \u001b[0mh5\u001b[0m\u001b[0;34m.\u001b[0m\u001b[0mcreate_group\u001b[0m\u001b[0;34m(\u001b[0m\u001b[0;34m'u'\u001b[0m \u001b[0;34m+\u001b[0m \u001b[0mstr\u001b[0m\u001b[0;34m(\u001b[0m\u001b[0muserid\u001b[0m\u001b[0;34m)\u001b[0m\u001b[0;34m)\u001b[0m\u001b[0;34m\u001b[0m\u001b[0;34m\u001b[0m\u001b[0m\n\u001b[0m\u001b[1;32m      4\u001b[0m     \u001b[0mgrp\u001b[0m\u001b[0;34m.\u001b[0m\u001b[0mcreate_dataset\u001b[0m\u001b[0;34m(\u001b[0m\u001b[0;34m'movies'\u001b[0m\u001b[0;34m,\u001b[0m \u001b[0mdata\u001b[0m\u001b[0;34m=\u001b[0m\u001b[0mx\u001b[0m\u001b[0;34m[\u001b[0m\u001b[0;34m'movieId'\u001b[0m\u001b[0;34m]\u001b[0m\u001b[0;34m.\u001b[0m\u001b[0mvalues\u001b[0m\u001b[0;34m.\u001b[0m\u001b[0mastype\u001b[0m\u001b[0;34m(\u001b[0m\u001b[0mnp\u001b[0m\u001b[0;34m.\u001b[0m\u001b[0mint32\u001b[0m\u001b[0;34m)\u001b[0m\u001b[0;34m)\u001b[0m\u001b[0;34m\u001b[0m\u001b[0;34m\u001b[0m\u001b[0m\n\u001b[1;32m      5\u001b[0m     \u001b[0mgrp\u001b[0m\u001b[0;34m.\u001b[0m\u001b[0mcreate_dataset\u001b[0m\u001b[0;34m(\u001b[0m\u001b[0;34m'ratings'\u001b[0m\u001b[0;34m,\u001b[0m \u001b[0mdata\u001b[0m\u001b[0;34m=\u001b[0m\u001b[0mx\u001b[0m\u001b[0;34m[\u001b[0m\u001b[0;34m'rating'\u001b[0m\u001b[0;34m]\u001b[0m\u001b[0;34m.\u001b[0m\u001b[0mvalues\u001b[0m\u001b[0;34m.\u001b[0m\u001b[0mastype\u001b[0m\u001b[0;34m(\u001b[0m\u001b[0mnp\u001b[0m\u001b[0;34m.\u001b[0m\u001b[0mint8\u001b[0m\u001b[0;34m)\u001b[0m\u001b[0;34m)\u001b[0m\u001b[0;34m\u001b[0m\u001b[0;34m\u001b[0m\u001b[0m\n",
      "\u001b[0;31mNameError\u001b[0m: name 'h5' is not defined"
     ]
    }
   ],
   "source": [
    "for userid in tqdm(user_dict.keys()):\n",
    "    x = user_dict[userid]\n",
    "    grp = h5.create_group('u' + str(userid))\n",
    "    grp.create_dataset('movies', data=x['movieId'].values.astype(np.int32))\n",
    "    grp.create_dataset('ratings', data=x['rating'].values.astype(np.int8))"
   ]
  },
  {
   "cell_type": "code",
   "execution_count": 10,
   "metadata": {},
   "outputs": [
    {
     "data": {
      "application/vnd.jupyter.widget-view+json": {
       "model_id": "74554a2303f44ca4b064fa78d80cc339",
       "version_major": 2,
       "version_minor": 0
      },
      "text/plain": [
       "HBox(children=(IntProgress(value=0, max=138493), HTML(value='')))"
      ]
     },
     "metadata": {},
     "output_type": "display_data"
    },
    {
     "name": "stdout",
     "output_type": "stream",
     "text": [
      "\n"
     ]
    }
   ],
   "source": [
    "# optional\n",
    "# torch multithread dataloader doesnt work with hdf5\n",
    "# you can save it as pickle dict \n",
    "# it is fully competible with the hdf5 dataloader, just change the file!\n",
    "# p.s. dont forget to use n_workers > 1\n",
    "\n",
    "user_dict_hdf5like = {}\n",
    "\n",
    "for userid in tqdm(user_dict.keys()):\n",
    "    x = user_dict[userid]\n",
    "    user_dict_hdf5like['u' + str(userid)] = {}\n",
    "    user_dict_hdf5like['u' + str(userid)]['movies'] = x['movieId'].values.astype(np.int32)\n",
    "    user_dict_hdf5like['u' + str(userid)]['ratings'] = x['rating'].values.astype(np.int8)"
   ]
  },
  {
   "cell_type": "code",
   "execution_count": 11,
   "metadata": {},
   "outputs": [],
   "source": [
    "pickle.dump( user_dict_hdf5like, open( \"../../data/test/test.pkl\", \"wb\" ) )"
   ]
  },
  {
   "cell_type": "code",
   "execution_count": 12,
   "metadata": {},
   "outputs": [
    {
     "data": {
      "text/plain": [
       "{'movies': array([ 908,  903, 2598, 1533, 1058,  646, 2874,  334, 1276, 3903,  150,\n",
       "         111, 1344, 1219, 1340, 2207, 4212, 1189, 1251, 1194, 1231, 6144,\n",
       "        4626, 2631, 2563, 7861, 1914, 6393, 1319, 1293, 6646, 2204, 1190,\n",
       "        1911, 2035, 6890, 4012, 5581, 1234, 5051, 3388, 2995, 2579, 1321,\n",
       "        7276, 3840, 4133, 3179, 4783, 2944, 1176, 2915, 7345,   50,  538,\n",
       "        1114, 5854, 1174, 7042, 1197, 1177,  588, 1068,   29, 4898, 6698,\n",
       "        1170,  291,   47, 1235, 1172, 2607, 2676,  294, 7313, 8008,  316,\n",
       "        1192, 1183,   32,  258, 1357, 3410, 4035,  251, 4659, 1305, 2560,\n",
       "        2677, 1239, 1059, 1222, 1213, 3918, 2719, 1329, 2859, 1232, 2458,\n",
       "        1069, 3934, 2833, 1018, 2111, 7954, 6235, 6430, 1264,  584, 2951,\n",
       "        1216,  221, 2862, 8279, 7770, 2787, 1076, 2057, 5995, 5718, 4801,\n",
       "        3391, 1884, 9758, 2110, 7840, 6665, 2055, 3067, 7456, 4373, 2883,\n",
       "        6934, 2091, 4931, 5699, 4477, 2090, 4944, 5444, 7053, 1938, 6935,\n",
       "        2060, 2017, 7136, 4816, 4352,  364, 6645, 2544, 5800, 4846,  991,\n",
       "        3400,    2, 1766, 7278, 4885, 6725, 4820, 4945, 3350, 1837, 5076,\n",
       "        7329, 2169, 6779, 3797, 1479, 5901, 7324, 4040, 3904, 1687],\n",
       "       dtype=int32),\n",
       " 'ratings': array([2, 2, 2, 2, 3, 1, 3, 2, 1, 3, 3, 2, 3, 2, 1, 3, 3, 3, 3, 3, 3, 2,\n",
       "        2, 2, 2, 5, 2, 2, 2, 3, 2, 3, 3, 2, 3, 2, 2, 2, 2, 2, 2, 3, 2, 2,\n",
       "        2, 1, 2, 2, 2, 1, 3, 2, 1, 2, 3, 2, 5, 4, 5, 2, 1, 2, 2, 2, 5, 2,\n",
       "        2, 3, 2, 2, 4, 2, 1, 3, 3, 2, 3, 2, 2, 2, 3, 3, 3, 3, 3, 3, 3, 2,\n",
       "        3, 3, 2, 3, 3, 3, 2, 3, 3, 3, 3, 3, 3, 2, 3, 2, 4, 3, 3, 2, 2, 2,\n",
       "        1, 3, 2, 3, 3, 3, 3, 3, 3, 3, 3, 3, 3, 3, 3, 2, 3, 3, 3, 3, 3, 3,\n",
       "        2, 3, 3, 3, 3, 3, 3, 3, 2, 3, 3, 3, 3, 2, 3, 2, 2, 3, 3, 2, 2, 2,\n",
       "        3, 2, 2, 3, 2, 2, 1, 1, 2, 2, 3, 3, 2, 1, 3, 1, 2, 2, 1, 2, 2],\n",
       "       dtype=int8)}"
      ]
     },
     "execution_count": 12,
     "metadata": {},
     "output_type": "execute_result"
    }
   ],
   "source": [
    "user_dict_hdf5like['u1']"
   ]
  },
  {
   "cell_type": "code",
   "execution_count": null,
   "metadata": {},
   "outputs": [],
   "source": []
  }
 ],
 "metadata": {
  "kernelspec": {
   "display_name": "Python 3",
   "language": "python",
   "name": "python3"
  },
  "language_info": {
   "codemirror_mode": {
    "name": "ipython",
    "version": 3
   },
   "file_extension": ".py",
   "mimetype": "text/x-python",
   "name": "python",
   "nbconvert_exporter": "python",
   "pygments_lexer": "ipython3",
   "version": "3.7.4"
  }
 },
 "nbformat": 4,
 "nbformat_minor": 2
}
